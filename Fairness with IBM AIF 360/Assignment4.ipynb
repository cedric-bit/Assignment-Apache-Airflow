{
 "cells": [
  {
   "cell_type": "code",
   "execution_count": 156,
   "id": "b464c5fe-b344-4973-96f0-51dbcf112458",
   "metadata": {},
   "outputs": [
    {
     "name": "stderr",
     "output_type": "stream",
     "text": [
      "WARNING:root:Missing Data: 5 rows removed from CompasDataset.\n"
     ]
    }
   ],
   "source": [
    "import numpy as np\n",
    "from tqdm import tqdm\n",
    "\n",
    "from aif360.datasets import BinaryLabelDataset\n",
    "from aif360.datasets import AdultDataset, GermanDataset, CompasDataset\n",
    "from aif360.metrics import BinaryLabelDatasetMetric\n",
    "from aif360.metrics import ClassificationMetric\n",
    "from aif360.algorithms.preprocessing.reweighing import Reweighing\n",
    "from aif360.algorithms.preprocessing.optim_preproc_helpers.data_preproc_functions\\\n",
    "        import load_preproc_data_adult, load_preproc_data_german, load_preproc_data_compas\n",
    "from sklearn.linear_model import LogisticRegression\n",
    "from sklearn.preprocessing import StandardScaler\n",
    "from sklearn.metrics import accuracy_score\n",
    "\n",
    "from IPython.display import Markdown, display\n",
    "import matplotlib.pyplot as plt\n",
    "import pandas as pd\n",
    "from common_utils import compute_metrics\n",
    "compas_data = CompasDataset()\n",
    "from aif360.metrics import BinaryLabelDatasetMetric, MDSSClassificationMetric\n",
    "from aif360.detectors import bias_scan\n"
   ]
  },
  {
   "cell_type": "code",
   "execution_count": 157,
   "id": "e0ab7d52-f313-41ef-90e2-46e0b6d9031f",
   "metadata": {},
   "outputs": [
    {
     "data": {
      "text/html": [
       "<div>\n",
       "<style scoped>\n",
       "    .dataframe tbody tr th:only-of-type {\n",
       "        vertical-align: middle;\n",
       "    }\n",
       "\n",
       "    .dataframe tbody tr th {\n",
       "        vertical-align: top;\n",
       "    }\n",
       "\n",
       "    .dataframe thead th {\n",
       "        text-align: right;\n",
       "    }\n",
       "</style>\n",
       "<table border=\"1\" class=\"dataframe\">\n",
       "  <thead>\n",
       "    <tr style=\"text-align: right;\">\n",
       "      <th></th>\n",
       "      <th>sex</th>\n",
       "      <th>age</th>\n",
       "      <th>race</th>\n",
       "      <th>juv_fel_count</th>\n",
       "      <th>juv_misd_count</th>\n",
       "      <th>juv_other_count</th>\n",
       "      <th>priors_count</th>\n",
       "      <th>age_cat=25 - 45</th>\n",
       "      <th>age_cat=Greater than 45</th>\n",
       "      <th>age_cat=Less than 25</th>\n",
       "      <th>...</th>\n",
       "      <th>c_charge_desc=Video Voyeur-&lt;24Y on Child &gt;16</th>\n",
       "      <th>c_charge_desc=Viol Injunct Domestic Violence</th>\n",
       "      <th>c_charge_desc=Viol Injunction Protect Dom Vi</th>\n",
       "      <th>c_charge_desc=Viol Pretrial Release Dom Viol</th>\n",
       "      <th>c_charge_desc=Viol Prot Injunc Repeat Viol</th>\n",
       "      <th>c_charge_desc=Violation License Restrictions</th>\n",
       "      <th>c_charge_desc=Violation Of Boater Safety Id</th>\n",
       "      <th>c_charge_desc=Violation of Injunction Order/Stalking/Cyberstalking</th>\n",
       "      <th>c_charge_desc=Voyeurism</th>\n",
       "      <th>c_charge_desc=arrest case no charge</th>\n",
       "    </tr>\n",
       "  </thead>\n",
       "  <tbody>\n",
       "    <tr>\n",
       "      <th>0</th>\n",
       "      <td>0.0</td>\n",
       "      <td>69.0</td>\n",
       "      <td>0.0</td>\n",
       "      <td>0.0</td>\n",
       "      <td>0.0</td>\n",
       "      <td>0.0</td>\n",
       "      <td>0.0</td>\n",
       "      <td>0.0</td>\n",
       "      <td>1.0</td>\n",
       "      <td>0.0</td>\n",
       "      <td>...</td>\n",
       "      <td>0.0</td>\n",
       "      <td>0.0</td>\n",
       "      <td>0.0</td>\n",
       "      <td>0.0</td>\n",
       "      <td>0.0</td>\n",
       "      <td>0.0</td>\n",
       "      <td>0.0</td>\n",
       "      <td>0.0</td>\n",
       "      <td>0.0</td>\n",
       "      <td>0.0</td>\n",
       "    </tr>\n",
       "    <tr>\n",
       "      <th>1</th>\n",
       "      <td>0.0</td>\n",
       "      <td>34.0</td>\n",
       "      <td>0.0</td>\n",
       "      <td>0.0</td>\n",
       "      <td>0.0</td>\n",
       "      <td>0.0</td>\n",
       "      <td>0.0</td>\n",
       "      <td>1.0</td>\n",
       "      <td>0.0</td>\n",
       "      <td>0.0</td>\n",
       "      <td>...</td>\n",
       "      <td>0.0</td>\n",
       "      <td>0.0</td>\n",
       "      <td>0.0</td>\n",
       "      <td>0.0</td>\n",
       "      <td>0.0</td>\n",
       "      <td>0.0</td>\n",
       "      <td>0.0</td>\n",
       "      <td>0.0</td>\n",
       "      <td>0.0</td>\n",
       "      <td>0.0</td>\n",
       "    </tr>\n",
       "    <tr>\n",
       "      <th>2</th>\n",
       "      <td>0.0</td>\n",
       "      <td>24.0</td>\n",
       "      <td>0.0</td>\n",
       "      <td>0.0</td>\n",
       "      <td>0.0</td>\n",
       "      <td>1.0</td>\n",
       "      <td>4.0</td>\n",
       "      <td>0.0</td>\n",
       "      <td>0.0</td>\n",
       "      <td>1.0</td>\n",
       "      <td>...</td>\n",
       "      <td>0.0</td>\n",
       "      <td>0.0</td>\n",
       "      <td>0.0</td>\n",
       "      <td>0.0</td>\n",
       "      <td>0.0</td>\n",
       "      <td>0.0</td>\n",
       "      <td>0.0</td>\n",
       "      <td>0.0</td>\n",
       "      <td>0.0</td>\n",
       "      <td>0.0</td>\n",
       "    </tr>\n",
       "    <tr>\n",
       "      <th>3</th>\n",
       "      <td>0.0</td>\n",
       "      <td>44.0</td>\n",
       "      <td>0.0</td>\n",
       "      <td>0.0</td>\n",
       "      <td>0.0</td>\n",
       "      <td>0.0</td>\n",
       "      <td>0.0</td>\n",
       "      <td>1.0</td>\n",
       "      <td>0.0</td>\n",
       "      <td>0.0</td>\n",
       "      <td>...</td>\n",
       "      <td>0.0</td>\n",
       "      <td>0.0</td>\n",
       "      <td>0.0</td>\n",
       "      <td>0.0</td>\n",
       "      <td>0.0</td>\n",
       "      <td>0.0</td>\n",
       "      <td>0.0</td>\n",
       "      <td>0.0</td>\n",
       "      <td>0.0</td>\n",
       "      <td>0.0</td>\n",
       "    </tr>\n",
       "    <tr>\n",
       "      <th>4</th>\n",
       "      <td>0.0</td>\n",
       "      <td>41.0</td>\n",
       "      <td>1.0</td>\n",
       "      <td>0.0</td>\n",
       "      <td>0.0</td>\n",
       "      <td>0.0</td>\n",
       "      <td>14.0</td>\n",
       "      <td>1.0</td>\n",
       "      <td>0.0</td>\n",
       "      <td>0.0</td>\n",
       "      <td>...</td>\n",
       "      <td>0.0</td>\n",
       "      <td>0.0</td>\n",
       "      <td>0.0</td>\n",
       "      <td>0.0</td>\n",
       "      <td>0.0</td>\n",
       "      <td>0.0</td>\n",
       "      <td>0.0</td>\n",
       "      <td>0.0</td>\n",
       "      <td>0.0</td>\n",
       "      <td>0.0</td>\n",
       "    </tr>\n",
       "  </tbody>\n",
       "</table>\n",
       "<p>5 rows × 401 columns</p>\n",
       "</div>"
      ],
      "text/plain": [
       "   sex   age  race  juv_fel_count  juv_misd_count  juv_other_count  \\\n",
       "0  0.0  69.0   0.0            0.0             0.0              0.0   \n",
       "1  0.0  34.0   0.0            0.0             0.0              0.0   \n",
       "2  0.0  24.0   0.0            0.0             0.0              1.0   \n",
       "3  0.0  44.0   0.0            0.0             0.0              0.0   \n",
       "4  0.0  41.0   1.0            0.0             0.0              0.0   \n",
       "\n",
       "   priors_count  age_cat=25 - 45  age_cat=Greater than 45  \\\n",
       "0           0.0              0.0                      1.0   \n",
       "1           0.0              1.0                      0.0   \n",
       "2           4.0              0.0                      0.0   \n",
       "3           0.0              1.0                      0.0   \n",
       "4          14.0              1.0                      0.0   \n",
       "\n",
       "   age_cat=Less than 25  ...  c_charge_desc=Video Voyeur-<24Y on Child >16  \\\n",
       "0                   0.0  ...                                           0.0   \n",
       "1                   0.0  ...                                           0.0   \n",
       "2                   1.0  ...                                           0.0   \n",
       "3                   0.0  ...                                           0.0   \n",
       "4                   0.0  ...                                           0.0   \n",
       "\n",
       "   c_charge_desc=Viol Injunct Domestic Violence  \\\n",
       "0                                           0.0   \n",
       "1                                           0.0   \n",
       "2                                           0.0   \n",
       "3                                           0.0   \n",
       "4                                           0.0   \n",
       "\n",
       "   c_charge_desc=Viol Injunction Protect Dom Vi  \\\n",
       "0                                           0.0   \n",
       "1                                           0.0   \n",
       "2                                           0.0   \n",
       "3                                           0.0   \n",
       "4                                           0.0   \n",
       "\n",
       "   c_charge_desc=Viol Pretrial Release Dom Viol  \\\n",
       "0                                           0.0   \n",
       "1                                           0.0   \n",
       "2                                           0.0   \n",
       "3                                           0.0   \n",
       "4                                           0.0   \n",
       "\n",
       "   c_charge_desc=Viol Prot Injunc Repeat Viol  \\\n",
       "0                                         0.0   \n",
       "1                                         0.0   \n",
       "2                                         0.0   \n",
       "3                                         0.0   \n",
       "4                                         0.0   \n",
       "\n",
       "   c_charge_desc=Violation License Restrictions  \\\n",
       "0                                           0.0   \n",
       "1                                           0.0   \n",
       "2                                           0.0   \n",
       "3                                           0.0   \n",
       "4                                           0.0   \n",
       "\n",
       "   c_charge_desc=Violation Of Boater Safety Id  \\\n",
       "0                                          0.0   \n",
       "1                                          0.0   \n",
       "2                                          0.0   \n",
       "3                                          0.0   \n",
       "4                                          0.0   \n",
       "\n",
       "   c_charge_desc=Violation of Injunction Order/Stalking/Cyberstalking  \\\n",
       "0                                                0.0                    \n",
       "1                                                0.0                    \n",
       "2                                                0.0                    \n",
       "3                                                0.0                    \n",
       "4                                                0.0                    \n",
       "\n",
       "   c_charge_desc=Voyeurism  c_charge_desc=arrest case no charge  \n",
       "0                      0.0                                  0.0  \n",
       "1                      0.0                                  0.0  \n",
       "2                      0.0                                  0.0  \n",
       "3                      0.0                                  0.0  \n",
       "4                      0.0                                  0.0  \n",
       "\n",
       "[5 rows x 401 columns]"
      ]
     },
     "execution_count": 157,
     "metadata": {},
     "output_type": "execute_result"
    }
   ],
   "source": [
    "# Convert to Pandas DataFrame\n",
    "compas_df = pd.DataFrame(data=compas_data.features, columns=compas_data.feature_names)\n",
    "\n",
    "# Print \n",
    "compas_df.head()\n",
    "\n"
   ]
  },
  {
   "cell_type": "code",
   "execution_count": 158,
   "id": "ae200771-d68a-42b7-a7b7-fc81a3498e76",
   "metadata": {},
   "outputs": [
    {
     "data": {
      "text/html": [
       "<div>\n",
       "<style scoped>\n",
       "    .dataframe tbody tr th:only-of-type {\n",
       "        vertical-align: middle;\n",
       "    }\n",
       "\n",
       "    .dataframe tbody tr th {\n",
       "        vertical-align: top;\n",
       "    }\n",
       "\n",
       "    .dataframe thead th {\n",
       "        text-align: right;\n",
       "    }\n",
       "</style>\n",
       "<table border=\"1\" class=\"dataframe\">\n",
       "  <thead>\n",
       "    <tr style=\"text-align: right;\">\n",
       "      <th></th>\n",
       "      <th>sex</th>\n",
       "      <th>age</th>\n",
       "      <th>race</th>\n",
       "    </tr>\n",
       "  </thead>\n",
       "  <tbody>\n",
       "    <tr>\n",
       "      <th>0</th>\n",
       "      <td>0.0</td>\n",
       "      <td>69.0</td>\n",
       "      <td>0.0</td>\n",
       "    </tr>\n",
       "    <tr>\n",
       "      <th>1</th>\n",
       "      <td>0.0</td>\n",
       "      <td>34.0</td>\n",
       "      <td>0.0</td>\n",
       "    </tr>\n",
       "    <tr>\n",
       "      <th>2</th>\n",
       "      <td>0.0</td>\n",
       "      <td>24.0</td>\n",
       "      <td>0.0</td>\n",
       "    </tr>\n",
       "    <tr>\n",
       "      <th>3</th>\n",
       "      <td>0.0</td>\n",
       "      <td>44.0</td>\n",
       "      <td>0.0</td>\n",
       "    </tr>\n",
       "    <tr>\n",
       "      <th>4</th>\n",
       "      <td>0.0</td>\n",
       "      <td>41.0</td>\n",
       "      <td>1.0</td>\n",
       "    </tr>\n",
       "  </tbody>\n",
       "</table>\n",
       "</div>"
      ],
      "text/plain": [
       "   sex   age  race\n",
       "0  0.0  69.0   0.0\n",
       "1  0.0  34.0   0.0\n",
       "2  0.0  24.0   0.0\n",
       "3  0.0  44.0   0.0\n",
       "4  0.0  41.0   1.0"
      ]
     },
     "execution_count": 158,
     "metadata": {},
     "output_type": "execute_result"
    }
   ],
   "source": [
    "# Selecting relevant columns for the fairness analysis\n",
    "relevant_columns = ['sex', 'age', 'race']\n",
    "\n",
    "# Creating a new dataframe with selected columns\n",
    "compas_selected = compas_df[relevant_columns]\n",
    "\n",
    "# Checking for missing values\n",
    "missing_values = compas_selected.isnull().sum()\n",
    "\n",
    "# Displaying the new dataframe and missing values information\n",
    "compas_selected.head()\n"
   ]
  },
  {
   "cell_type": "code",
   "execution_count": 159,
   "id": "cf312be0-adfe-4fd8-916e-6ba22813730a",
   "metadata": {},
   "outputs": [
    {
     "data": {
      "text/plain": [
       "sex     0\n",
       "age     0\n",
       "race    0\n",
       "dtype: int64"
      ]
     },
     "execution_count": 159,
     "metadata": {},
     "output_type": "execute_result"
    }
   ],
   "source": [
    " missing_values"
   ]
  },
  {
   "cell_type": "code",
   "execution_count": 160,
   "id": "41eded6b-f8cf-4007-b1f9-7ec35e7681ed",
   "metadata": {},
   "outputs": [
    {
     "data": {
      "image/png": "[encoded data removed]",
      "text/plain": [
       "<Figure size 1200x1000 with 4 Axes>"
      ]
     },
     "metadata": {},
     "output_type": "display_data"
    }
   ],
   "source": [
    "import matplotlib.pyplot as plt\n",
    "import seaborn as sns\n",
    "\n",
    "\n",
    "sns.set(style=\"whitegrid\")\n",
    "\n",
    "# Creating plots to show distribution of protected attributes and outcomes\n",
    "fig, axes = plt.subplots(2, 2, figsize=(12, 10))\n",
    "\n",
    "# Sex distribution\n",
    "sns.countplot(x='sex', data=compas_selected, ax=axes[0, 0])\n",
    "axes[0, 0].set_title('Distribution by Sex')\n",
    "\n",
    "# Age distribution\n",
    "sns.histplot(compas_selected['age'], bins=15, kde=True, ax=axes[0, 1])\n",
    "axes[0, 1].set_title('Age Distribution')\n",
    "\n",
    "# Race distribution\n",
    "sns.countplot(x='race', data=compas_selected, ax=axes[1, 0])\n",
    "axes[1, 0].set_title('Distribution by Race')\n",
    "axes[1, 0].tick_params(axis='x', rotation=45)\n",
    "\n",
    "\n",
    "# Adjust layout\n",
    "plt.tight_layout()\n",
    "\n",
    "# Display the plots\n",
    "plt.show()\n"
   ]
  },
  {
   "cell_type": "code",
   "execution_count": null,
   "id": "057dd279-4b67-4fb3-80de-f6e5126ee561",
   "metadata": {},
   "outputs": [],
   "source": []
  },
  {
   "cell_type": "markdown",
   "id": "0ce95306-8026-4f64-b0ee-1a24192ffb10",
   "metadata": {},
   "source": [
    "## Consider race to be the protected attribute, fix the bias using the reweighing preprocessing technique, and measure the bias assuming sex is the protected attribute."
   ]
  },
  {
   "cell_type": "code",
   "execution_count": 161,
   "id": "f6d0b78d-97f4-411d-9090-80178bdf9767",
   "metadata": {},
   "outputs": [],
   "source": [
    "%matplotlib inline\n",
    "# Load all necessary packages\n",
    "# import sys\n",
    "# sys.path.append(\"../\")\n",
    "import numpy as np\n",
    "from tqdm import tqdm\n",
    "\n",
    "from aif360.datasets import BinaryLabelDataset\n",
    "from aif360.datasets import AdultDataset, GermanDataset, CompasDataset\n",
    "from aif360.metrics import BinaryLabelDatasetMetric\n",
    "from aif360.metrics import ClassificationMetric\n",
    "from aif360.algorithms.preprocessing.reweighing import Reweighing\n",
    "from aif360.algorithms.preprocessing.optim_preproc_helpers.data_preproc_functions\\\n",
    "        import load_preproc_data_adult, load_preproc_data_german, load_preproc_data_compas\n",
    "from sklearn.linear_model import LogisticRegression\n",
    "from sklearn.preprocessing import StandardScaler\n",
    "from sklearn.metrics import accuracy_score\n",
    "\n",
    "from IPython.display import Markdown, display\n",
    "import matplotlib.pyplot as plt\n",
    "import pandas as pd\n",
    "from common_utils import compute_metrics\n",
    "# load the data\n",
    "compas_data = load_preproc_data_compas()\n",
    "\n",
    "np.random.seed(1)"
   ]
  },
  {
   "cell_type": "code",
   "execution_count": 162,
   "id": "280e272d-05a3-49b1-9dd3-dcdeb55ad8be",
   "metadata": {},
   "outputs": [
    {
     "name": "stdout",
     "output_type": "stream",
     "text": [
      "#### Training Dataset shape\n",
      "(2639, 10)\n",
      "#### Favorable and unfavorable labels\n",
      "0.0 1.0\n",
      "#### Protected attribute names\n",
      "['sex', 'race']\n",
      "#### Privileged and unprivileged protected attribute values\n",
      "[array([1.]), array([1.])] [array([0.]), array([0.])]\n"
     ]
    }
   ],
   "source": [
    "\n",
    "privileged_groups = [{'race': 1}]\n",
    "unprivileged_groups = [{'race': 0}]\n",
    "\n",
    "\n",
    "# Get the dataset and split into train and test\n",
    "dataset_orig_train, dataset_orig_test = compas_data.split([0.5], shuffle=True)\n",
    "\n",
    "# print\n",
    "print(\"#### Training Dataset shape\")\n",
    "print(dataset_orig_train.features.shape)\n",
    "print(\"#### Favorable and unfavorable labels\")\n",
    "print(dataset_orig_train.favorable_label, dataset_orig_train.unfavorable_label)\n",
    "print(\"#### Protected attribute names\")\n",
    "print(dataset_orig_train.protected_attribute_names)\n",
    "print(\"#### Privileged and unprivileged protected attribute values\")\n",
    "print(dataset_orig_train.privileged_protected_attributes, \n",
    "      dataset_orig_train.unprivileged_protected_attributes)\n",
    "\n"
   ]
  },
  {
   "cell_type": "code",
   "execution_count": 163,
   "id": "82262e1b-1471-4bb0-b70d-409f088f436a",
   "metadata": {},
   "outputs": [
    {
     "data": {
      "text/markdown": [
       "#### Original training dataset"
      ],
      "text/plain": [
       "<IPython.core.display.Markdown object>"
      ]
     },
     "metadata": {},
     "output_type": "display_data"
    },
    {
     "name": "stdout",
     "output_type": "stream",
     "text": [
      "Difference in mean outcomes between unprivileged and privileged groups = -0.106802\n"
     ]
    }
   ],
   "source": [
    "# Metric for the original dataset\n",
    "metric_orig_train = BinaryLabelDatasetMetric(dataset_orig_train, \n",
    "                                             unprivileged_groups=unprivileged_groups,\n",
    "                                             privileged_groups=privileged_groups)\n",
    "display(Markdown(\"#### Original training dataset\"))\n",
    "print(\"Difference in mean outcomes between unprivileged and privileged groups = %f\" % metric_orig_train.mean_difference())"
   ]
  },
  {
   "cell_type": "markdown",
   "id": "547a2623-3207-4492-aeca-e7c200bf3d51",
   "metadata": {},
   "source": [
    "### Step 4 Mitigate bias by transforming the original dataset\n",
    "The previous step showed that the privileged group was getting 13% more positive outcomes in the training dataset"
   ]
  },
  {
   "cell_type": "code",
   "execution_count": 164,
   "id": "cc8e633d-9394-4949-b09c-560602fc447e",
   "metadata": {},
   "outputs": [],
   "source": [
    "RW = Reweighing(unprivileged_groups=privileged_groups, privileged_groups=unprivileged_groups)\n",
    "dataset_transf_train = RW.fit_transform(dataset_orig_train)"
   ]
  },
  {
   "cell_type": "code",
   "execution_count": 165,
   "id": "88492001-dde0-45f5-8cd2-12231916c9c3",
   "metadata": {},
   "outputs": [
    {
     "data": {
      "text/markdown": [
       "#### Transformed training dataset"
      ],
      "text/plain": [
       "<IPython.core.display.Markdown object>"
      ]
     },
     "metadata": {},
     "output_type": "display_data"
    },
    {
     "name": "stdout",
     "output_type": "stream",
     "text": [
      "Difference in mean outcomes between unprivileged and privileged groups = 0.000000\n"
     ]
    }
   ],
   "source": [
    "metric_transf_train = BinaryLabelDatasetMetric(dataset_transf_train, \n",
    "                                         unprivileged_groups=unprivileged_groups,\n",
    "                                         privileged_groups=privileged_groups)\n",
    "display(Markdown(\"#### Transformed training dataset\"))\n",
    "print(\"Difference in mean outcomes between unprivileged and privileged groups = %f\" % metric_transf_train.mean_difference())"
   ]
  },
  {
   "cell_type": "markdown",
   "id": "5ba0a099-52d1-4a49-888b-e1454a4f29fb",
   "metadata": {},
   "source": [
    "#### Train with and transform the original training data"
   ]
  },
  {
   "cell_type": "code",
   "execution_count": 166,
   "id": "56581cca-12e6-41c0-ab98-a4fb4fb75ffa",
   "metadata": {},
   "outputs": [
    {
     "name": "stdout",
     "output_type": "stream",
     "text": [
      "Difference in Mean Outcomes (Sex): -0.24361508849524582\n",
      "Disparate Impact (Sex): 0.6928862418217828\n"
     ]
    }
   ],
   "source": [
    "\n",
    "# simple model LogisticRegression\n",
    "model = LogisticRegression()\n",
    "model.fit(dataset_transf_train.features, dataset_transf_train.labels.ravel(),\n",
    "          sample_weight=dataset_transf_train.instance_weights)\n",
    "\n",
    "dataset_orig_test_pred = dataset_orig_test.copy()\n",
    "dataset_orig_test_pred.labels = model.predict(dataset_orig_test.features)\n",
    "\n",
    "\n",
    "metric_test_sex = BinaryLabelDatasetMetric(dataset_orig_test_pred, \n",
    "                                           unprivileged_groups=[{'sex': 0}],\n",
    "                                           privileged_groups=[{'sex': 1}])\n",
    "# \n",
    "print(\"Difference in Mean Outcomes (Sex):\", metric_test_sex.mean_difference())\n",
    "print(\"Disparate Impact (Sex):\", metric_test_sex.disparate_impact())\n"
   ]
  },
  {
   "cell_type": "code",
   "execution_count": null,
   "id": "f583222e-9075-4f1b-82dc-5bc7762bbe87",
   "metadata": {},
   "outputs": [],
   "source": []
  },
  {
   "cell_type": "code",
   "execution_count": 167,
   "id": "61ddc0fb-2caf-4e2a-a9cd-d592afa0bc67",
   "metadata": {},
   "outputs": [],
   "source": [
    "\n",
    "#"
   ]
  },
  {
   "cell_type": "markdown",
   "id": "4dc7bb59-e4e5-4cad-839b-054779634841",
   "metadata": {},
   "source": [
    "## Consider sex to be the protected attribute, fix the bias using the reweighing preprocessing technique, and measure the bias assuming race is the protected attribute."
   ]
  },
  {
   "cell_type": "code",
   "execution_count": 168,
   "id": "9d31f506-19c1-4205-85cf-95ab720fba97",
   "metadata": {},
   "outputs": [
    {
     "name": "stdout",
     "output_type": "stream",
     "text": [
      "Difference in Mean Outcomes (Race): -0.21484113999255994\n",
      "Disparate Impact (Race): 0.703341861288569\n"
     ]
    }
   ],
   "source": [
    "from aif360.algorithms.preprocessing import Reweighing\n",
    "from sklearn.linear_model import LogisticRegression\n",
    "from aif360.metrics import BinaryLabelDatasetMetric, ClassificationMetric\n",
    "\n",
    "\n",
    "RW = Reweighing(unprivileged_groups=[{'sex': 0}], privileged_groups=[{'sex': 1}])\n",
    "dataset_transf_train = RW.fit_transform(dataset_orig_train)\n",
    "\n",
    "\n",
    "model = LogisticRegression()\n",
    "model.fit(dataset_transf_train.features, dataset_transf_train.labels.ravel(),\n",
    "          sample_weight=dataset_transf_train.instance_weights)\n",
    "\n",
    "# Predictions on the test set\n",
    "dataset_orig_test_pred = dataset_orig_test.copy()\n",
    "dataset_orig_test_pred.labels = model.predict(dataset_orig_test.features)\n",
    "\n",
    "\n",
    "metric_test_race = BinaryLabelDatasetMetric(dataset_orig_test_pred, \n",
    "                                            unprivileged_groups=[{'race': 0}],\n",
    "                                            privileged_groups=[{'race': 1}])\n",
    "\n",
    "# print the metric\n",
    "print(\"Difference in Mean Outcomes (Race):\", metric_test_race.mean_difference())\n",
    "print(\"Disparate Impact (Race):\", metric_test_race.disparate_impact())\n",
    "\n",
    "\n",
    "\n"
   ]
  },
  {
   "cell_type": "code",
   "execution_count": 169,
   "id": "15de83f4-8d03-4c63-b6cf-f9920847c9d5",
   "metadata": {},
   "outputs": [],
   "source": [
    "# Get the probability scores for the positive class\n",
    "positive_class_probabilities = model.predict_proba(dataset_orig_test.features)[:, 1].reshape(-1, 1)\n",
    "\n",
    "# Update the dataset with the predicted probabilities\n",
    "dataset_orig_test_pred.scores = positive_class_probabilities\n",
    "\n",
    "# update the labels based on a threshold (e.g., 0.5)\n",
    "dataset_orig_test_pred.labels = (positive_class_probabilities > 0.5).astype(float)\n",
    "\n"
   ]
  },
  {
   "cell_type": "code",
   "execution_count": 170,
   "id": "362c6f3f-c742-478b-aeb6-7bd5d0b775a5",
   "metadata": {},
   "outputs": [
    {
     "data": {
      "text/plain": [
       "array([[0.34124772],\n",
       "       [0.6051639 ],\n",
       "       [0.6051639 ],\n",
       "       ...,\n",
       "       [0.23396363],\n",
       "       [0.6543359 ],\n",
       "       [0.47063036]])"
      ]
     },
     "execution_count": 170,
     "metadata": {},
     "output_type": "execute_result"
    }
   ],
   "source": [
    "positive_class_probabilities"
   ]
  },
  {
   "cell_type": "code",
   "execution_count": 171,
   "id": "bcd6f55f-71c9-4557-87cf-126ddc159321",
   "metadata": {},
   "outputs": [
    {
     "name": "stdout",
     "output_type": "stream",
     "text": [
      "   Predicted_Label\n",
      "0              0.0\n",
      "1              1.0\n",
      "2              1.0\n",
      "3              0.0\n",
      "4              0.0\n"
     ]
    }
   ],
   "source": [
    "import pandas as pd\n",
    "\n",
    "predicted_labels_df = pd.DataFrame(dataset_orig_test_pred.labels, columns=['Predicted_Label'])\n",
    "\n",
    "print(predicted_labels_df.head())\n"
   ]
  },
  {
   "cell_type": "markdown",
   "id": "ce666965-e7ba-478b-bd7d-c98a20918f2a",
   "metadata": {},
   "source": [
    "## Repeat these measurements considering age groups, to investigate questions like\n",
    "In this section, the focus was on individuals under 25 years of age, with a concentration on the\r\n",
    "evaluation of sex and race biases after the application of the reweighting technique. Two logistic\r\n",
    "regression models were trained separately, one adjusted for sex bias and the other for race bias. The\r\n",
    "results of the tests on this specific set of ages revealed some interesting informatios:\r\n",
    "3\r\n"
   ]
  },
  {
   "cell_type": "code",
   "execution_count": 172,
   "id": "d9dd60bf-d438-4f73-91dc-7f15108b09c7",
   "metadata": {},
   "outputs": [
    {
     "data": {
      "image/png": "[encoded data removed]",
      "text/plain": [
       "<Figure size 800x600 with 1 Axes>"
      ]
     },
     "metadata": {},
     "output_type": "display_data"
    }
   ],
   "source": [
    "import pandas as pd\n",
    "import matplotlib.pyplot as plt\n",
    "\n",
    "# Assuming 'compas_data.features' contains the feature data and 'compas_data.feature_names' contains the column names\n",
    "features_df = pd.DataFrame(compas_data.features, columns=compas_data.feature_names)\n",
    "\n",
    "# Calculate the sum (or count) for 'Less than 25' and '25 to 45' age categories\n",
    "age_less_25_count = features_df['age_cat=Less than 25'].sum()\n",
    "age_25_to_45_count = features_df['age_cat=25 to 45'].sum()\n",
    "\n",
    "# Creating a DataFrame for plotting\n",
    "age_counts_df = pd.DataFrame({'Age Categories': ['Less than 25', '25 to 45'],\n",
    "                              'Count': [age_less_25_count, age_25_to_45_count]})\n",
    "\n",
    "# Plotting the graph\n",
    "plt.figure(figsize=(8, 6))\n",
    "plt.bar(age_counts_df['Age Categories'], age_counts_df['Count'], color=['blue', 'green'])\n",
    "plt.title('Distribution of Individuals by Age Categories')\n",
    "plt.xlabel('Age Categories')\n",
    "plt.ylabel('Number of Individuals')\n",
    "plt.show()\n"
   ]
  },
  {
   "cell_type": "code",
   "execution_count": 173,
   "id": "e154c5db-ed8a-4ca9-9bdf-7d9c58c129c4",
   "metadata": {},
   "outputs": [
    {
     "name": "stdout",
     "output_type": "stream",
     "text": [
      "['sex', 'race', 'age_cat=25 to 45', 'age_cat=Greater than 45', 'age_cat=Less than 25', 'priors_count=0', 'priors_count=1 to 3', 'priors_count=More than 3', 'c_charge_degree=F', 'c_charge_degree=M']\n"
     ]
    }
   ],
   "source": [
    "print(dataset_orig_test_pred.feature_names)\n"
   ]
  },
  {
   "cell_type": "markdown",
   "id": "34fff464-5855-4cc7-9603-18baf6558dfc",
   "metadata": {},
   "source": [
    "## age_cat=Less than 25"
   ]
  },
  {
   "cell_type": "code",
   "execution_count": 174,
   "id": "a6280cc2-ca44-4c80-9138-9b7856463aab",
   "metadata": {},
   "outputs": [],
   "source": [
    "# Filtering for under-25s\n",
    "age_cat_index = compas_data.feature_names.index('age_cat=Less than 25')\n",
    "under_25_indices = compas_data.features[:, age_cat_index] == 1\n",
    "dataset_under_25 = compas_data.subset(under_25_indices)\n",
    "\n",
    "\n",
    "dataset_under_25_train, dataset_under_25_test = dataset_under_25.split([0.5], shuffle=True)\n",
    "\n",
    "\n",
    "RW_sex = Reweighing(unprivileged_groups=[{'sex': 0}], privileged_groups=[{'sex': 1}])\n",
    "dataset_under_25_train_sex_rw = RW_sex.fit_transform(dataset_under_25_train)\n",
    "\n",
    "\n",
    "RW_race = Reweighing(unprivileged_groups=[{'race': 0}], privileged_groups=[{'race': 1}])\n",
    "dataset_under_25_train_race_rw = RW_race.fit_transform(dataset_under_25_train)\n"
   ]
  },
  {
   "cell_type": "code",
   "execution_count": 175,
   "id": "e6401c3d-d8f6-4158-a9d2-c5287c9d2b81",
   "metadata": {},
   "outputs": [
    {
     "name": "stdout",
     "output_type": "stream",
     "text": [
      "Metrics for Sex:\n",
      "Difference in mean results (Sex): 0.12265018289939555\n",
      "Disparate Impact (Sex): 1.477459640572647\n",
      "Race metric:\n",
      "Difference in average results (Race): -0.03597926895799236\n",
      "Impact Disparate (Race): 0.9164925609370054\n"
     ]
    }
   ],
   "source": [
    "\n",
    "model_sex = LogisticRegression()\n",
    "model_sex.fit(dataset_under_25_train_sex_rw.features, dataset_under_25_train_sex_rw.labels.ravel(),\n",
    "              sample_weight=dataset_under_25_train_sex_rw.instance_weights)\n",
    "\n",
    "\n",
    "model_race = LogisticRegression()\n",
    "model_race.fit(dataset_under_25_train_race_rw.features, dataset_under_25_train_race_rw.labels.ravel(),\n",
    "               sample_weight=dataset_under_25_train_race_rw.instance_weights)\n",
    "\n",
    "\n",
    "dataset_under_25_test_sex_pred = dataset_under_25_test.copy()\n",
    "dataset_under_25_test_race_pred = dataset_under_25_test.copy()\n",
    "\n",
    "dataset_under_25_test_sex_pred.labels = model_sex.predict(dataset_under_25_test_sex_pred.features)\n",
    "dataset_under_25_test_race_pred.labels = model_race.predict(dataset_under_25_test_race_pred.features)\n",
    "\n",
    "# Calculation of metrics for sex and race on the test set\n",
    "metric_test_sex = BinaryLabelDatasetMetric(dataset_under_25_test_sex_pred, \n",
    "                                           unprivileged_groups=[{'sex': 0}],\n",
    "                                           privileged_groups=[{'sex': 1}])\n",
    "\n",
    "metric_test_race = BinaryLabelDatasetMetric(dataset_under_25_test_race_pred, \n",
    "                                            unprivileged_groups=[{'race': 0}],\n",
    "                                            privileged_groups=[{'race': 1}])\n",
    "\n",
    "print(\"Metrics for Sex:\")\n",
    "print(\"Difference in mean results (Sex):\", metric_test_sex.mean_difference())\n",
    "print(\"Disparate Impact (Sex):\", metric_test_sex.disparate_impact())\n",
    "\n",
    "# print metric race\n",
    "print(\"Race metric:\")\n",
    "print(\"Difference in average results (Race):\", metric_test_race.mean_difference())\n",
    "print(\"Impact Disparate (Race):\", metric_test_race.disparate_impact())\n"
   ]
  },
  {
   "cell_type": "markdown",
   "id": "893095a3-c528-4757-a7e6-f51ff66ec54e",
   "metadata": {},
   "source": [
    "For sex, the metrics showed a clear bias in favour of the privileged group, with a significant\n",
    "positive difference in mean scores and a disparate impact greater than 1. This indicates that the\n",
    "privileged group based on sex receives more favourable treatment by the model. In contrast, the\n",
    "race measures revealed a slightly unfavourable bias towards the non-privileged group, as evidenced\n",
    "by the negative difference in mean scores and a disparate impact of slightly less than 1, although\n",
    "these biases were less pronounced than those related to sex"
   ]
  },
  {
   "cell_type": "code",
   "execution_count": 176,
   "id": "84e863de-6288-441e-b278-90a45aec8a27",
   "metadata": {},
   "outputs": [
    {
     "name": "stdout",
     "output_type": "stream",
     "text": [
      "age_cat=Less than 25\n",
      "1.0    1156\n",
      "Name: count, dtype: int64\n"
     ]
    }
   ],
   "source": [
    "\n",
    "\n",
    "\n",
    "features_df = pd.DataFrame(dataset_under_25.features, columns=dataset_under_25.feature_names)\n",
    "\n",
    "\n",
    "print(features_df['age_cat=Less than 25'].value_counts())\n"
   ]
  },
  {
   "cell_type": "markdown",
   "id": "4a98dab8-3004-4736-b2ed-3c2474d221db",
   "metadata": {},
   "source": [
    "## age_cat=25 to 45"
   ]
  },
  {
   "cell_type": "code",
   "execution_count": 177,
   "id": "b04c3520-2dbf-4840-bcd0-3b19ea923b93",
   "metadata": {},
   "outputs": [],
   "source": [
    "# Filtering for people over 25\n",
    "age_cat_index = compas_data.feature_names.index('age_cat=25 to 45')\n",
    "under_25_indices = compas_data.features[:, age_cat_index] == 1\n",
    "dataset_under_25 = compas_data.subset(under_25_indices)\n",
    "\n",
    "dataset_under_25_train, dataset_under_25_test = dataset_under_25.split([0.5], shuffle=True)\n",
    "\n",
    "RW_sex = Reweighing(unprivileged_groups=[{'sex': 0}], privileged_groups=[{'sex': 1}])\n",
    "dataset_under_25_train_sex_rw = RW_sex.fit_transform(dataset_under_25_train)\n",
    "\n",
    "# \n",
    "RW_race = Reweighing(unprivileged_groups=[{'race': 0}], privileged_groups=[{'race': 1}])\n",
    "dataset_under_25_train_race_rw = RW_race.fit_transform(dataset_under_25_train)\n",
    "\n"
   ]
  },
  {
   "cell_type": "code",
   "execution_count": null,
   "id": "67affdad-3eb1-4555-bbe7-dc4b391b10d0",
   "metadata": {},
   "outputs": [],
   "source": []
  },
  {
   "cell_type": "code",
   "execution_count": 178,
   "id": "c61def75-33b0-414f-9edf-cd3b7958f9ca",
   "metadata": {},
   "outputs": [
    {
     "name": "stdout",
     "output_type": "stream",
     "text": [
      "Metrics for Sex:\n",
      "Difference in mean results (Sex): -0.18625013570730642\n",
      "Disparate Impact (Sex): 0.751937592180225\n",
      "Race metric:\n",
      "Difference in average results (Race): -0.2184205860843743\n",
      "Impact Disparate (Race): 0.7034991576751835\n"
     ]
    }
   ],
   "source": [
    "\n",
    "model_sex = LogisticRegression()\n",
    "model_sex.fit(dataset_under_25_train_sex_rw.features, dataset_under_25_train_sex_rw.labels.ravel(),\n",
    "              sample_weight=dataset_under_25_train_sex_rw.instance_weights)\n",
    "\n",
    "\n",
    "model_race = LogisticRegression()\n",
    "model_race.fit(dataset_under_25_train_race_rw.features, dataset_under_25_train_race_rw.labels.ravel(),\n",
    "               sample_weight=dataset_under_25_train_race_rw.instance_weights)\n",
    "\n",
    "\n",
    "dataset_under_25_test_sex_pred = dataset_under_25_test.copy()\n",
    "dataset_under_25_test_race_pred = dataset_under_25_test.copy()\n",
    "\n",
    "dataset_under_25_test_sex_pred.labels = model_sex.predict(dataset_under_25_test_sex_pred.features)\n",
    "dataset_under_25_test_race_pred.labels = model_race.predict(dataset_under_25_test_race_pred.features)\n",
    "\n",
    "#Calculation of metrics for sex and race on the test set\n",
    "metric_test_sex = BinaryLabelDatasetMetric(dataset_under_25_test_sex_pred, \n",
    "                                           unprivileged_groups=[{'sex': 0}],\n",
    "                                           privileged_groups=[{'sex': 1}])\n",
    "\n",
    "metric_test_race = BinaryLabelDatasetMetric(dataset_under_25_test_race_pred, \n",
    "                                            unprivileged_groups=[{'race': 0}],\n",
    "                                            privileged_groups=[{'race': 1}])\n",
    "\n",
    "print(\"Metrics for Sex:\")\n",
    "print(\"Difference in mean results (Sex):\", metric_test_sex.mean_difference())\n",
    "print(\"Disparate Impact (Sex):\", metric_test_sex.disparate_impact())\n",
    "\n",
    "# print metric race\n",
    "print(\"Race metric:\")\n",
    "print(\"Difference in average results (Race):\", metric_test_race.mean_difference())\n",
    "print(\"Impact Disparate (Race):\", metric_test_race.disparate_impact())"
   ]
  },
  {
   "cell_type": "markdown",
   "id": "fdee2fee-61fc-4476-a587-11bff672c85b",
   "metadata": {},
   "source": [
    "These results indicate that, for the 25 to 45 age group, biases towards non-privileged groups are\n",
    "more pronounced for both sex and race than for individuals under 25. In particular, the racial bias\n",
    "is more pronounced in this age group. This suggests that age factors interact with sex and race in a\n",
    "significant way, influencing how biases manifest themselves in the model’s predictions.\n",
    "These observations illustrate the importance of an intersectional approach to the analysis of\n",
    "algorithmic fairness. They highlight the need to examine not only each protected attribute individ-\n",
    "ually but also to understand how these attributes interact across different age groups. Such in-depth\n",
    "analysis is crucial to developing effective bias mitigation strategies, tailored to the specificities of\n",
    "each demographic sub-group"
   ]
  },
  {
   "cell_type": "markdown",
   "id": "d1403abc-c62f-446e-90b2-7d0ab2202544",
   "metadata": {},
   "source": [
    "## age_cat=Greater than 45"
   ]
  },
  {
   "cell_type": "code",
   "execution_count": 179,
   "id": "fb1d238b-c028-46e1-b1c1-927ce76d6d01",
   "metadata": {},
   "outputs": [],
   "source": [
    "\n",
    "age_cat_index = compas_data.feature_names.index('age_cat=Greater than 45')\n",
    "under_25_indices = compas_data.features[:, age_cat_index] == 1\n",
    "dataset_under_25 = compas_data.subset(under_25_indices)\n",
    "\n",
    "\n",
    "dataset_under_25_train, dataset_under_25_test = dataset_under_25.split([0.5], shuffle=True)\n",
    "\n",
    "\n",
    "RW_sex = Reweighing(unprivileged_groups=[{'sex': 0}], privileged_groups=[{'sex': 1}])\n",
    "dataset_under_25_train_sex_rw = RW_sex.fit_transform(dataset_under_25_train)\n",
    "\n",
    "# \n",
    "RW_race = Reweighing(unprivileged_groups=[{'race': 0}], privileged_groups=[{'race': 1}])\n",
    "dataset_under_25_train_race_rw = RW_race.fit_transform(dataset_under_25_train)\n",
    "\n"
   ]
  },
  {
   "cell_type": "code",
   "execution_count": 180,
   "id": "c353fb99-4786-4be6-bb1c-701891726d2f",
   "metadata": {},
   "outputs": [
    {
     "name": "stdout",
     "output_type": "stream",
     "text": [
      "Metrics for Sex:\n",
      "Difference in mean results (Sex): -0.0950726692662176\n",
      "Disparate Impact (Sex): 0.8771978021978023\n",
      "Race metric:\n",
      "Difference in average results (Race): -0.14065984564855993\n",
      "Impact Disparate (Race): 0.8251717707930855\n"
     ]
    }
   ],
   "source": [
    "\n",
    "model_sex = LogisticRegression()\n",
    "model_sex.fit(dataset_under_25_train_sex_rw.features, dataset_under_25_train_sex_rw.labels.ravel(),\n",
    "              sample_weight=dataset_under_25_train_sex_rw.instance_weights)\n",
    "\n",
    "# simple Model for race\n",
    "model_race = LogisticRegression()\n",
    "model_race.fit(dataset_under_25_train_race_rw.features, dataset_under_25_train_race_rw.labels.ravel(),\n",
    "               sample_weight=dataset_under_25_train_race_rw.instance_weights)\n",
    "\n",
    "\n",
    "dataset_under_25_test_sex_pred = dataset_under_25_test.copy()\n",
    "dataset_under_25_test_race_pred = dataset_under_25_test.copy()\n",
    "\n",
    "dataset_under_25_test_sex_pred.labels = model_sex.predict(dataset_under_25_test_sex_pred.features)\n",
    "dataset_under_25_test_race_pred.labels = model_race.predict(dataset_under_25_test_race_pred.features)\n",
    "\n",
    "\n",
    "metric_test_sex = BinaryLabelDatasetMetric(dataset_under_25_test_sex_pred, \n",
    "                                           unprivileged_groups=[{'sex': 0}],\n",
    "                                           privileged_groups=[{'sex': 1}])\n",
    "\n",
    "metric_test_race = BinaryLabelDatasetMetric(dataset_under_25_test_race_pred, \n",
    "                                            unprivileged_groups=[{'race': 0}],\n",
    "                                            privileged_groups=[{'race': 1}])\n",
    "\n",
    "print(\"Metrics for Sex:\")\n",
    "print(\"Difference in mean results (Sex):\", metric_test_sex.mean_difference())\n",
    "print(\"Disparate Impact (Sex):\", metric_test_sex.disparate_impact())\n",
    "\n",
    "# print metric race\n",
    "print(\"Race metric:\")\n",
    "print(\"Difference in average results (Race):\", metric_test_race.mean_difference())\n",
    "print(\"Impact Disparate (Race):\", metric_test_race.disparate_impact())"
   ]
  },
  {
   "cell_type": "code",
   "execution_count": 181,
   "id": "244959ab-f9b1-4175-9f25-ebfdad6eea4d",
   "metadata": {},
   "outputs": [],
   "source": [
    "dataset_orig = load_preproc_data_compas()\n",
    "dataset_orig_df = pd.DataFrame(dataset_orig.features, columns=dataset_orig.feature_names)"
   ]
  },
  {
   "cell_type": "markdown",
   "id": "260561e0-5f2c-456f-a13e-1a5f41352fbb",
   "metadata": {},
   "source": [
    "## the Multi-Dimensional Subset Scan (MDSS) method"
   ]
  },
  {
   "cell_type": "code",
   "execution_count": 182,
   "id": "1e645efc-2630-4dda-a79f-80ca93e48a23",
   "metadata": {},
   "outputs": [
    {
     "data": {
      "text/html": [
       "<div>\n",
       "<style scoped>\n",
       "    .dataframe tbody tr th:only-of-type {\n",
       "        vertical-align: middle;\n",
       "    }\n",
       "\n",
       "    .dataframe tbody tr th {\n",
       "        vertical-align: top;\n",
       "    }\n",
       "\n",
       "    .dataframe thead th {\n",
       "        text-align: right;\n",
       "    }\n",
       "</style>\n",
       "<table border=\"1\" class=\"dataframe\">\n",
       "  <thead>\n",
       "    <tr style=\"text-align: right;\">\n",
       "      <th></th>\n",
       "      <th>sex</th>\n",
       "      <th>race</th>\n",
       "      <th>age_cat</th>\n",
       "      <th>priors_count</th>\n",
       "      <th>c_charge_degree</th>\n",
       "      <th>two_year_recid</th>\n",
       "    </tr>\n",
       "  </thead>\n",
       "  <tbody>\n",
       "    <tr>\n",
       "      <th>0</th>\n",
       "      <td>0.0</td>\n",
       "      <td>0.0</td>\n",
       "      <td>1.0</td>\n",
       "      <td>0.0</td>\n",
       "      <td>1.0</td>\n",
       "      <td>1.0</td>\n",
       "    </tr>\n",
       "    <tr>\n",
       "      <th>1</th>\n",
       "      <td>0.0</td>\n",
       "      <td>0.0</td>\n",
       "      <td>0.0</td>\n",
       "      <td>2.0</td>\n",
       "      <td>1.0</td>\n",
       "      <td>1.0</td>\n",
       "    </tr>\n",
       "    <tr>\n",
       "      <th>2</th>\n",
       "      <td>0.0</td>\n",
       "      <td>1.0</td>\n",
       "      <td>1.0</td>\n",
       "      <td>2.0</td>\n",
       "      <td>1.0</td>\n",
       "      <td>1.0</td>\n",
       "    </tr>\n",
       "    <tr>\n",
       "      <th>3</th>\n",
       "      <td>1.0</td>\n",
       "      <td>1.0</td>\n",
       "      <td>1.0</td>\n",
       "      <td>0.0</td>\n",
       "      <td>0.0</td>\n",
       "      <td>0.0</td>\n",
       "    </tr>\n",
       "    <tr>\n",
       "      <th>4</th>\n",
       "      <td>0.0</td>\n",
       "      <td>1.0</td>\n",
       "      <td>1.0</td>\n",
       "      <td>0.0</td>\n",
       "      <td>1.0</td>\n",
       "      <td>0.0</td>\n",
       "    </tr>\n",
       "    <tr>\n",
       "      <th>...</th>\n",
       "      <td>...</td>\n",
       "      <td>...</td>\n",
       "      <td>...</td>\n",
       "      <td>...</td>\n",
       "      <td>...</td>\n",
       "      <td>...</td>\n",
       "    </tr>\n",
       "    <tr>\n",
       "      <th>5273</th>\n",
       "      <td>0.0</td>\n",
       "      <td>0.0</td>\n",
       "      <td>1.0</td>\n",
       "      <td>0.0</td>\n",
       "      <td>0.0</td>\n",
       "      <td>1.0</td>\n",
       "    </tr>\n",
       "    <tr>\n",
       "      <th>5274</th>\n",
       "      <td>0.0</td>\n",
       "      <td>0.0</td>\n",
       "      <td>0.0</td>\n",
       "      <td>0.0</td>\n",
       "      <td>1.0</td>\n",
       "      <td>0.0</td>\n",
       "    </tr>\n",
       "    <tr>\n",
       "      <th>5275</th>\n",
       "      <td>0.0</td>\n",
       "      <td>0.0</td>\n",
       "      <td>0.0</td>\n",
       "      <td>0.0</td>\n",
       "      <td>1.0</td>\n",
       "      <td>0.0</td>\n",
       "    </tr>\n",
       "    <tr>\n",
       "      <th>5276</th>\n",
       "      <td>0.0</td>\n",
       "      <td>0.0</td>\n",
       "      <td>0.0</td>\n",
       "      <td>0.0</td>\n",
       "      <td>1.0</td>\n",
       "      <td>0.0</td>\n",
       "    </tr>\n",
       "    <tr>\n",
       "      <th>5277</th>\n",
       "      <td>1.0</td>\n",
       "      <td>0.0</td>\n",
       "      <td>1.0</td>\n",
       "      <td>1.0</td>\n",
       "      <td>0.0</td>\n",
       "      <td>0.0</td>\n",
       "    </tr>\n",
       "  </tbody>\n",
       "</table>\n",
       "<p>5278 rows × 6 columns</p>\n",
       "</div>"
      ],
      "text/plain": [
       "      sex  race  age_cat  priors_count  c_charge_degree  two_year_recid\n",
       "0     0.0   0.0      1.0           0.0              1.0             1.0\n",
       "1     0.0   0.0      0.0           2.0              1.0             1.0\n",
       "2     0.0   1.0      1.0           2.0              1.0             1.0\n",
       "3     1.0   1.0      1.0           0.0              0.0             0.0\n",
       "4     0.0   1.0      1.0           0.0              1.0             0.0\n",
       "...   ...   ...      ...           ...              ...             ...\n",
       "5273  0.0   0.0      1.0           0.0              0.0             1.0\n",
       "5274  0.0   0.0      0.0           0.0              1.0             0.0\n",
       "5275  0.0   0.0      0.0           0.0              1.0             0.0\n",
       "5276  0.0   0.0      0.0           0.0              1.0             0.0\n",
       "5277  1.0   0.0      1.0           1.0              0.0             0.0\n",
       "\n",
       "[5278 rows x 6 columns]"
      ]
     },
     "execution_count": 182,
     "metadata": {},
     "output_type": "execute_result"
    }
   ],
   "source": [
    "import numpy as np\n",
    "import pandas as pd\n",
    "\n",
    "# Convert one-hot columns into category columns\n",
    "age_cat = np.argmax(dataset_orig_df[['age_cat=Less than 25', 'age_cat=25 to 45', 'age_cat=Greater than 45']].values, axis=1).reshape(-1, 1)\n",
    "priors_count = np.argmax(dataset_orig_df[['priors_count=0', 'priors_count=1 to 3', 'priors_count=More than 3']].values, axis=1).reshape(-1, 1)\n",
    "c_charge_degree = np.argmax(dataset_orig_df[['c_charge_degree=M', 'c_charge_degree=F']].values, axis=1).reshape(-1, 1)\n",
    "\n",
    "# creer new data set\n",
    "features = np.concatenate((dataset_orig_df[['sex', 'race']].values, age_cat, priors_count, c_charge_degree, dataset_orig.labels), axis=1)\n",
    "feature_names = ['sex', 'race', 'age_cat', 'priors_count', 'c_charge_degree']\n",
    "\n",
    "# \n",
    "final_df = pd.DataFrame(features, columns=feature_names + ['two_year_recid'])\n",
    "final_df"
   ]
  },
  {
   "cell_type": "code",
   "execution_count": 183,
   "id": "5e0c446a-bf28-4224-a221-d1f226586160",
   "metadata": {},
   "outputs": [
    {
     "name": "stdout",
     "output_type": "stream",
     "text": [
      "Number of individuals under 25 and caucasian: 347\n",
      "Number of people under 25 who are African-American: 809\n",
      "\n",
      "Overview of individuals under 25 and Caucasian:\n",
      "    sex  race  age_cat  priors_count  c_charge_degree  two_year_recid\n",
      "16  1.0   1.0      0.0           0.0              1.0             0.0\n",
      "25  0.0   1.0      0.0           1.0              0.0             1.0\n",
      "54  0.0   1.0      0.0           0.0              1.0             0.0\n",
      "65  1.0   1.0      0.0           0.0              1.0             0.0\n",
      "71  0.0   1.0      0.0           2.0              1.0             1.0\n",
      "\n",
      "Preview of under-25s who are African-American:\n",
      "    sex  race  age_cat  priors_count  c_charge_degree  two_year_recid\n",
      "1   0.0   0.0      0.0           2.0              1.0             1.0\n",
      "5   0.0   0.0      0.0           1.0              0.0             1.0\n",
      "14  0.0   0.0      0.0           1.0              1.0             1.0\n",
      "28  1.0   0.0      0.0           1.0              1.0             0.0\n",
      "39  0.0   0.0      0.0           1.0              1.0             1.0\n"
     ]
    }
   ],
   "source": [
    "\n",
    "under_25 = final_df['age_cat'] == 0 # Individuals under 25 years old\n",
    "caucasian = final_df['race'] == 1 # Caucasian individuals\n",
    "african_american = final_df['race'] == 0 # African-American individuals\n",
    "\n",
    "# Creation of subgroups\n",
    "under_25_caucasian = final_df[under_25 & caucasian]\n",
    "under_25_african_american = final_df[under_25 & african_american]\n",
    "\n",
    "# Display the number of individuals in each subgroup\n",
    "print(\"Number of individuals under 25 and caucasian:\", len(under_25_caucasian))\n",
    "print(\"Number of people under 25 who are African-American:\", len(under_25_african_american))\n",
    "\n",
    "# Display the first lines to check\n",
    "print(\"\\nOverview of individuals under 25 and Caucasian:\")\n",
    "print(under_25_caucasian.head())\n",
    "\n",
    "print(\"\\nPreview of under-25s who are African-American:\")\n",
    "print(under_25_african_american.head())\n",
    "\n"
   ]
  },
  {
   "cell_type": "code",
   "execution_count": 184,
   "id": "2f1ac8cd-c14e-46d7-a92c-bc13e98c22be",
   "metadata": {},
   "outputs": [
    {
     "name": "stdout",
     "output_type": "stream",
     "text": [
      "column'under_25_caucasian': Index(['sex', 'race', 'age_cat', 'priors_count', 'c_charge_degree',\n",
      "       'two_year_recid'],\n",
      "      dtype='object')\n",
      "Column 'under_25_african_american': Index(['sex', 'race', 'age_cat', 'priors_count', 'c_charge_degree',\n",
      "       'two_year_recid'],\n",
      "      dtype='object')\n"
     ]
    }
   ],
   "source": [
    "print(\"column'under_25_caucasian':\", under_25_caucasian.columns)\n",
    "print(\"Column 'under_25_african_american':\", under_25_african_american.columns)\n"
   ]
  },
  {
   "cell_type": "code",
   "execution_count": 185,
   "id": "882f6e6f-08cd-4f9e-94be-0fe0e4eebb56",
   "metadata": {},
   "outputs": [
    {
     "name": "stdout",
     "output_type": "stream",
     "text": [
      "display data 'under_25_caucasian_dataset':\n",
      "    sex  race  age_cat  priors_count  c_charge_degree  two_year_recid\n",
      "16  1.0   1.0      0.0           0.0              1.0             0.0\n",
      "25  0.0   1.0      0.0           1.0              0.0             1.0\n",
      "54  0.0   1.0      0.0           0.0              1.0             0.0\n",
      "65  1.0   1.0      0.0           0.0              1.0             0.0\n",
      "71  0.0   1.0      0.0           2.0              1.0             1.0\n",
      "\n",
      "display the data 'under_25_african_american_dataset':\n",
      "    sex  race  age_cat  priors_count  c_charge_degree  two_year_recid\n",
      "1   0.0   0.0      0.0           2.0              1.0             1.0\n",
      "5   0.0   0.0      0.0           1.0              0.0             1.0\n",
      "14  0.0   0.0      0.0           1.0              1.0             1.0\n",
      "28  1.0   0.0      0.0           1.0              1.0             0.0\n",
      "39  0.0   0.0      0.0           1.0              1.0             1.0\n"
     ]
    }
   ],
   "source": [
    "under_25_caucasian_dataset = BinaryLabelDataset(favorable_label=1, unfavorable_label=0,\n",
    "                                                df=under_25_caucasian, label_names=['two_year_recid'],\n",
    "                                                protected_attribute_names=['sex'])\n",
    "\n",
    "under_25_african_american_dataset = BinaryLabelDataset(favorable_label=1, unfavorable_label=0,\n",
    "                                                       df=under_25_african_american, label_names=['two_year_recid'],\n",
    "                                                       protected_attribute_names=['sex'])\n",
    "\n",
    "\n",
    "print(\"display data 'under_25_caucasian_dataset':\")\n",
    "print(under_25_caucasian_dataset.convert_to_dataframe()[0].head())\n",
    "\n",
    "print(\"\\ndisplay the data 'under_25_african_american_dataset':\")\n",
    "print(under_25_african_american_dataset.convert_to_dataframe()[0].head())\n"
   ]
  },
  {
   "cell_type": "code",
   "execution_count": null,
   "id": "3ca4ec18-4727-469a-ae2c-97e7f5e1dae2",
   "metadata": {},
   "outputs": [],
   "source": []
  },
  {
   "cell_type": "code",
   "execution_count": null,
   "id": "786c484b-cd80-460e-a46a-8a3a813ce3a5",
   "metadata": {},
   "outputs": [],
   "source": []
  },
  {
   "cell_type": "code",
   "execution_count": 186,
   "id": "26d3f84f-43e1-4638-9815-aeb2f1396292",
   "metadata": {},
   "outputs": [],
   "source": [
    "# Splitting the datasets\n",
    "dataset_orig_train_caucasian, dataset_orig_test_caucasian = under_25_caucasian_dataset.split([0.7], shuffle=True, seed=0)\n",
    "dataset_orig_train_african_american, dataset_orig_test_african_american = under_25_african_american_dataset.split([0.7], shuffle=True, seed=0)"
   ]
  },
  {
   "cell_type": "code",
   "execution_count": 187,
   "id": "78f0cf45-255c-42ea-b77c-c34b23894903",
   "metadata": {},
   "outputs": [
    {
     "name": "stdout",
     "output_type": "stream",
     "text": [
      "train data :Caucasian group: Difference in mean outcomes  between unprivileged and privileged groups = -0.187780\n",
      "train data :African-American group: Difference in mean outcomes  between unprivileged and privileged groups = -0.228220\n"
     ]
    }
   ],
   "source": [
    "\n",
    "female_group_caucasian= [{'sex': 1}]\n",
    "male_group_caucasian= [{'sex': 0}]\n",
    "\n",
    "female_group_african_american= [{'sex': 1}]\n",
    "male_group_african_american= [{'sex': 0}]\n",
    "\n",
    "metric_caucasian = BinaryLabelDatasetMetric(dataset_orig_train_caucasian,\n",
    "                                            unprivileged_groups=female_group_caucasian,\n",
    "                                            privileged_groups=male_group_caucasian)\n",
    "print(\"train data :Caucasian group: Difference in mean outcomes  between unprivileged and privileged groups = %f\" % metric_caucasian.mean_difference())\n",
    "\n",
    "# compute score\n",
    "metric_african_american = BinaryLabelDatasetMetric(dataset_orig_train_african_american,\n",
    "                                                   unprivileged_groups=female_group_african_american,\n",
    "                                                   privileged_groups=male_group_african_american)\n",
    "print(\"train data :African-American group: Difference in mean outcomes  between unprivileged and privileged groups = %f\" % metric_african_american.mean_difference())\n"
   ]
  },
  {
   "cell_type": "markdown",
   "id": "d47134fe-3204-45f5-80fe-08b37c726e66",
   "metadata": {},
   "source": [
    " This indicates that African-American men 22% are more advantaged than African-American women in your dataset. 18% for Caucasian\n",
    " This confirms the existence of a gender bias in the data analysed, with a more marked impact among African-Americans."
   ]
  },
  {
   "cell_type": "code",
   "execution_count": 188,
   "id": "b91e1a82-248c-4c0c-a886-91a8ff41d501",
   "metadata": {},
   "outputs": [
    {
     "name": "stdout",
     "output_type": "stream",
     "text": [
      "test data :Caucasian group: Difference in mean outcomes  between unprivileged and privileged groups = -0.275073\n",
      "test data :African-American group: Difference in mean outcomes  between unprivileged and privileged groups = -0.130172\n"
     ]
    }
   ],
   "source": [
    "\n",
    "female_group_caucasian= [{'sex': 1}]\n",
    "male_group_caucasian= [{'sex': 0}]\n",
    "\n",
    "female_group_african_american= [{'sex': 1}]\n",
    "male_group_african_american= [{'sex': 0}]\n",
    "\n",
    "metric_caucasian = BinaryLabelDatasetMetric(dataset_orig_test_caucasian,\n",
    "                                            unprivileged_groups=female_group_caucasian,\n",
    "                                            privileged_groups=male_group_caucasian)\n",
    "print(\"test data :Caucasian group: Difference in mean outcomes  between unprivileged and privileged groups = %f\" % metric_caucasian.mean_difference())\n",
    "\n",
    "# score\n",
    "metric_african_american = BinaryLabelDatasetMetric(dataset_orig_test_african_american,\n",
    "                                                   unprivileged_groups=female_group_african_american,\n",
    "                                                   privileged_groups=male_group_african_american)\n",
    "print(\"test data :African-American group: Difference in mean outcomes  between unprivileged and privileged groups = %f\" % metric_african_american.mean_difference())\n"
   ]
  },
  {
   "cell_type": "markdown",
   "id": "3f482f6e-09dc-41f3-93d1-31f45ba37010",
   "metadata": {},
   "source": [
    "## train a classifier for both , \n",
    "the model is likely to pick up this bias in the dataset"
   ]
  },
  {
   "cell_type": "code",
   "execution_count": 189,
   "id": "715ca16b-5ae7-451c-bc60-3bd5e1c00528",
   "metadata": {},
   "outputs": [
    {
     "data": {
      "text/html": [
       "<style>#sk-container-id-7 {color: black;}#sk-container-id-7 pre{padding: 0;}#sk-container-id-7 div.sk-toggleable {background-color: white;}#sk-container-id-7 label.sk-toggleable__label {cursor: pointer;display: block;width: 100%;margin-bottom: 0;padding: 0.3em;box-sizing: border-box;text-align: center;}#sk-container-id-7 label.sk-toggleable__label-arrow:before {content: \"▸\";float: left;margin-right: 0.25em;color: #696969;}#sk-container-id-7 label.sk-toggleable__label-arrow:hover:before {color: black;}#sk-container-id-7 div.sk-estimator:hover label.sk-toggleable__label-arrow:before {color: black;}#sk-container-id-7 div.sk-toggleable__content {max-height: 0;max-width: 0;overflow: hidden;text-align: left;background-color: #f0f8ff;}#sk-container-id-7 div.sk-toggleable__content pre {margin: 0.2em;color: black;border-radius: 0.25em;background-color: #f0f8ff;}#sk-container-id-7 input.sk-toggleable__control:checked~div.sk-toggleable__content {max-height: 200px;max-width: 100%;overflow: auto;}#sk-container-id-7 input.sk-toggleable__control:checked~label.sk-toggleable__label-arrow:before {content: \"▾\";}#sk-container-id-7 div.sk-estimator input.sk-toggleable__control:checked~label.sk-toggleable__label {background-color: #d4ebff;}#sk-container-id-7 div.sk-label input.sk-toggleable__control:checked~label.sk-toggleable__label {background-color: #d4ebff;}#sk-container-id-7 input.sk-hidden--visually {border: 0;clip: rect(1px 1px 1px 1px);clip: rect(1px, 1px, 1px, 1px);height: 1px;margin: -1px;overflow: hidden;padding: 0;position: absolute;width: 1px;}#sk-container-id-7 div.sk-estimator {font-family: monospace;background-color: #f0f8ff;border: 1px dotted black;border-radius: 0.25em;box-sizing: border-box;margin-bottom: 0.5em;}#sk-container-id-7 div.sk-estimator:hover {background-color: #d4ebff;}#sk-container-id-7 div.sk-parallel-item::after {content: \"\";width: 100%;border-bottom: 1px solid gray;flex-grow: 1;}#sk-container-id-7 div.sk-label:hover label.sk-toggleable__label {background-color: #d4ebff;}#sk-container-id-7 div.sk-serial::before {content: \"\";position: absolute;border-left: 1px solid gray;box-sizing: border-box;top: 0;bottom: 0;left: 50%;z-index: 0;}#sk-container-id-7 div.sk-serial {display: flex;flex-direction: column;align-items: center;background-color: white;padding-right: 0.2em;padding-left: 0.2em;position: relative;}#sk-container-id-7 div.sk-item {position: relative;z-index: 1;}#sk-container-id-7 div.sk-parallel {display: flex;align-items: stretch;justify-content: center;background-color: white;position: relative;}#sk-container-id-7 div.sk-item::before, #sk-container-id-7 div.sk-parallel-item::before {content: \"\";position: absolute;border-left: 1px solid gray;box-sizing: border-box;top: 0;bottom: 0;left: 50%;z-index: -1;}#sk-container-id-7 div.sk-parallel-item {display: flex;flex-direction: column;z-index: 1;position: relative;background-color: white;}#sk-container-id-7 div.sk-parallel-item:first-child::after {align-self: flex-end;width: 50%;}#sk-container-id-7 div.sk-parallel-item:last-child::after {align-self: flex-start;width: 50%;}#sk-container-id-7 div.sk-parallel-item:only-child::after {width: 0;}#sk-container-id-7 div.sk-dashed-wrapped {border: 1px dashed gray;margin: 0 0.4em 0.5em 0.4em;box-sizing: border-box;padding-bottom: 0.4em;background-color: white;}#sk-container-id-7 div.sk-label label {font-family: monospace;font-weight: bold;display: inline-block;line-height: 1.2em;}#sk-container-id-7 div.sk-label-container {text-align: center;}#sk-container-id-7 div.sk-container {/* jupyter's `normalize.less` sets `[hidden] { display: none; }` but bootstrap.min.css set `[hidden] { display: none !important; }` so we also need the `!important` here to be able to override the default hidden behavior on the sphinx rendered scikit-learn.org. See: https://github.com/scikit-learn/scikit-learn/issues/21755 */display: inline-block !important;position: relative;}#sk-container-id-7 div.sk-text-repr-fallback {display: none;}</style><div id=\"sk-container-id-7\" class=\"sk-top-container\"><div class=\"sk-text-repr-fallback\"><pre>LogisticRegression(random_state=0)</pre><b>In a Jupyter environment, please rerun this cell to show the HTML representation or trust the notebook. <br />On GitHub, the HTML representation is unable to render, please try loading this page with nbviewer.org.</b></div><div class=\"sk-container\" hidden><div class=\"sk-item\"><div class=\"sk-estimator sk-toggleable\"><input class=\"sk-toggleable__control sk-hidden--visually\" id=\"sk-estimator-id-7\" type=\"checkbox\" checked><label for=\"sk-estimator-id-7\" class=\"sk-toggleable__label sk-toggleable__label-arrow\">LogisticRegression</label><div class=\"sk-toggleable__content\"><pre>LogisticRegression(random_state=0)</pre></div></div></div></div></div>"
      ],
      "text/plain": [
       "LogisticRegression(random_state=0)"
      ]
     },
     "execution_count": 189,
     "metadata": {},
     "output_type": "execute_result"
    }
   ],
   "source": [
    "# For the caucasian group\n",
    "clf_caucasian = LogisticRegression(solver='lbfgs', C=1.0, penalty='l2', random_state=0)\n",
    "clf_caucasian.fit(dataset_orig_train_caucasian.features, dataset_orig_train_caucasian.labels.flatten())\n",
    "\n",
    "\n"
   ]
  },
  {
   "cell_type": "code",
   "execution_count": 190,
   "id": "1e39ce40-810c-4d9d-9e11-908fe0384cb6",
   "metadata": {},
   "outputs": [
    {
     "data": {
      "text/html": [
       "<style>#sk-container-id-8 {color: black;}#sk-container-id-8 pre{padding: 0;}#sk-container-id-8 div.sk-toggleable {background-color: white;}#sk-container-id-8 label.sk-toggleable__label {cursor: pointer;display: block;width: 100%;margin-bottom: 0;padding: 0.3em;box-sizing: border-box;text-align: center;}#sk-container-id-8 label.sk-toggleable__label-arrow:before {content: \"▸\";float: left;margin-right: 0.25em;color: #696969;}#sk-container-id-8 label.sk-toggleable__label-arrow:hover:before {color: black;}#sk-container-id-8 div.sk-estimator:hover label.sk-toggleable__label-arrow:before {color: black;}#sk-container-id-8 div.sk-toggleable__content {max-height: 0;max-width: 0;overflow: hidden;text-align: left;background-color: #f0f8ff;}#sk-container-id-8 div.sk-toggleable__content pre {margin: 0.2em;color: black;border-radius: 0.25em;background-color: #f0f8ff;}#sk-container-id-8 input.sk-toggleable__control:checked~div.sk-toggleable__content {max-height: 200px;max-width: 100%;overflow: auto;}#sk-container-id-8 input.sk-toggleable__control:checked~label.sk-toggleable__label-arrow:before {content: \"▾\";}#sk-container-id-8 div.sk-estimator input.sk-toggleable__control:checked~label.sk-toggleable__label {background-color: #d4ebff;}#sk-container-id-8 div.sk-label input.sk-toggleable__control:checked~label.sk-toggleable__label {background-color: #d4ebff;}#sk-container-id-8 input.sk-hidden--visually {border: 0;clip: rect(1px 1px 1px 1px);clip: rect(1px, 1px, 1px, 1px);height: 1px;margin: -1px;overflow: hidden;padding: 0;position: absolute;width: 1px;}#sk-container-id-8 div.sk-estimator {font-family: monospace;background-color: #f0f8ff;border: 1px dotted black;border-radius: 0.25em;box-sizing: border-box;margin-bottom: 0.5em;}#sk-container-id-8 div.sk-estimator:hover {background-color: #d4ebff;}#sk-container-id-8 div.sk-parallel-item::after {content: \"\";width: 100%;border-bottom: 1px solid gray;flex-grow: 1;}#sk-container-id-8 div.sk-label:hover label.sk-toggleable__label {background-color: #d4ebff;}#sk-container-id-8 div.sk-serial::before {content: \"\";position: absolute;border-left: 1px solid gray;box-sizing: border-box;top: 0;bottom: 0;left: 50%;z-index: 0;}#sk-container-id-8 div.sk-serial {display: flex;flex-direction: column;align-items: center;background-color: white;padding-right: 0.2em;padding-left: 0.2em;position: relative;}#sk-container-id-8 div.sk-item {position: relative;z-index: 1;}#sk-container-id-8 div.sk-parallel {display: flex;align-items: stretch;justify-content: center;background-color: white;position: relative;}#sk-container-id-8 div.sk-item::before, #sk-container-id-8 div.sk-parallel-item::before {content: \"\";position: absolute;border-left: 1px solid gray;box-sizing: border-box;top: 0;bottom: 0;left: 50%;z-index: -1;}#sk-container-id-8 div.sk-parallel-item {display: flex;flex-direction: column;z-index: 1;position: relative;background-color: white;}#sk-container-id-8 div.sk-parallel-item:first-child::after {align-self: flex-end;width: 50%;}#sk-container-id-8 div.sk-parallel-item:last-child::after {align-self: flex-start;width: 50%;}#sk-container-id-8 div.sk-parallel-item:only-child::after {width: 0;}#sk-container-id-8 div.sk-dashed-wrapped {border: 1px dashed gray;margin: 0 0.4em 0.5em 0.4em;box-sizing: border-box;padding-bottom: 0.4em;background-color: white;}#sk-container-id-8 div.sk-label label {font-family: monospace;font-weight: bold;display: inline-block;line-height: 1.2em;}#sk-container-id-8 div.sk-label-container {text-align: center;}#sk-container-id-8 div.sk-container {/* jupyter's `normalize.less` sets `[hidden] { display: none; }` but bootstrap.min.css set `[hidden] { display: none !important; }` so we also need the `!important` here to be able to override the default hidden behavior on the sphinx rendered scikit-learn.org. See: https://github.com/scikit-learn/scikit-learn/issues/21755 */display: inline-block !important;position: relative;}#sk-container-id-8 div.sk-text-repr-fallback {display: none;}</style><div id=\"sk-container-id-8\" class=\"sk-top-container\"><div class=\"sk-text-repr-fallback\"><pre>LogisticRegression(random_state=0)</pre><b>In a Jupyter environment, please rerun this cell to show the HTML representation or trust the notebook. <br />On GitHub, the HTML representation is unable to render, please try loading this page with nbviewer.org.</b></div><div class=\"sk-container\" hidden><div class=\"sk-item\"><div class=\"sk-estimator sk-toggleable\"><input class=\"sk-toggleable__control sk-hidden--visually\" id=\"sk-estimator-id-8\" type=\"checkbox\" checked><label for=\"sk-estimator-id-8\" class=\"sk-toggleable__label sk-toggleable__label-arrow\">LogisticRegression</label><div class=\"sk-toggleable__content\"><pre>LogisticRegression(random_state=0)</pre></div></div></div></div></div>"
      ],
      "text/plain": [
       "LogisticRegression(random_state=0)"
      ]
     },
     "execution_count": 190,
     "metadata": {},
     "output_type": "execute_result"
    }
   ],
   "source": [
    "# For the African-American group\n",
    "clf_african_american = LogisticRegression(solver='lbfgs', C=1.0, penalty='l2', random_state=0)\n",
    "clf_african_american.fit(dataset_orig_train_african_american.features, dataset_orig_train_african_american.labels.flatten())\n"
   ]
  },
  {
   "cell_type": "markdown",
   "id": "a31d567b-6e74-42d2-b4fb-46b04f467f2d",
   "metadata": {},
   "source": [
    "# Probability prediction on the Caucasian test set"
   ]
  },
  {
   "cell_type": "code",
   "execution_count": 191,
   "id": "9d75e8d7-1fd9-4cfe-9206-278eeaef2b03",
   "metadata": {},
   "outputs": [
    {
     "data": {
      "text/html": [
       "<div>\n",
       "<style scoped>\n",
       "    .dataframe tbody tr th:only-of-type {\n",
       "        vertical-align: middle;\n",
       "    }\n",
       "\n",
       "    .dataframe tbody tr th {\n",
       "        vertical-align: top;\n",
       "    }\n",
       "\n",
       "    .dataframe thead th {\n",
       "        text-align: right;\n",
       "    }\n",
       "</style>\n",
       "<table border=\"1\" class=\"dataframe\">\n",
       "  <thead>\n",
       "    <tr style=\"text-align: right;\">\n",
       "      <th></th>\n",
       "      <th>sex</th>\n",
       "      <th>race</th>\n",
       "      <th>age_cat</th>\n",
       "      <th>priors_count</th>\n",
       "      <th>c_charge_degree</th>\n",
       "      <th>observed</th>\n",
       "      <th>probabilities</th>\n",
       "    </tr>\n",
       "  </thead>\n",
       "  <tbody>\n",
       "    <tr>\n",
       "      <th>0</th>\n",
       "      <td>0.0</td>\n",
       "      <td>1.0</td>\n",
       "      <td>0.0</td>\n",
       "      <td>0.0</td>\n",
       "      <td>1.0</td>\n",
       "      <td>1.0</td>\n",
       "      <td>0.564323</td>\n",
       "    </tr>\n",
       "    <tr>\n",
       "      <th>1</th>\n",
       "      <td>0.0</td>\n",
       "      <td>1.0</td>\n",
       "      <td>0.0</td>\n",
       "      <td>2.0</td>\n",
       "      <td>0.0</td>\n",
       "      <td>1.0</td>\n",
       "      <td>0.285311</td>\n",
       "    </tr>\n",
       "    <tr>\n",
       "      <th>2</th>\n",
       "      <td>0.0</td>\n",
       "      <td>1.0</td>\n",
       "      <td>0.0</td>\n",
       "      <td>1.0</td>\n",
       "      <td>1.0</td>\n",
       "      <td>1.0</td>\n",
       "      <td>0.416105</td>\n",
       "    </tr>\n",
       "    <tr>\n",
       "      <th>3</th>\n",
       "      <td>0.0</td>\n",
       "      <td>1.0</td>\n",
       "      <td>0.0</td>\n",
       "      <td>0.0</td>\n",
       "      <td>1.0</td>\n",
       "      <td>0.0</td>\n",
       "      <td>0.564323</td>\n",
       "    </tr>\n",
       "    <tr>\n",
       "      <th>4</th>\n",
       "      <td>0.0</td>\n",
       "      <td>1.0</td>\n",
       "      <td>0.0</td>\n",
       "      <td>1.0</td>\n",
       "      <td>1.0</td>\n",
       "      <td>1.0</td>\n",
       "      <td>0.416105</td>\n",
       "    </tr>\n",
       "  </tbody>\n",
       "</table>\n",
       "</div>"
      ],
      "text/plain": [
       "   sex  race  age_cat  priors_count  c_charge_degree  observed  probabilities\n",
       "0  0.0   1.0      0.0           0.0              1.0       1.0       0.564323\n",
       "1  0.0   1.0      0.0           2.0              0.0       1.0       0.285311\n",
       "2  0.0   1.0      0.0           1.0              1.0       1.0       0.416105\n",
       "3  0.0   1.0      0.0           0.0              1.0       0.0       0.564323\n",
       "4  0.0   1.0      0.0           1.0              1.0       1.0       0.416105"
      ]
     },
     "execution_count": 191,
     "metadata": {},
     "output_type": "execute_result"
    }
   ],
   "source": [
    "\n",
    "dataset_bias_test_prob_caucasian = clf_caucasian.predict_proba(dataset_orig_test_caucasian.features)[:, 0]\n",
    "\n",
    "# \n",
    "df_caucasian = pd.DataFrame(dataset_orig_test_caucasian.features, columns=dataset_orig_test_caucasian.feature_names)\n",
    "df_caucasian['observed'] = pd.Series(dataset_orig_test_caucasian.labels.flatten(), index=df_caucasian.index)\n",
    "df_caucasian['probabilities'] = pd.Series(dataset_bias_test_prob_caucasian, index=df_caucasian.index)\n",
    "df_caucasian.head()"
   ]
  },
  {
   "cell_type": "markdown",
   "id": "32a659a0-9cae-460e-939b-6116f92879db",
   "metadata": {},
   "source": [
    "### Bias scoring caucasian group"
   ]
  },
  {
   "cell_type": "code",
   "execution_count": 192,
   "id": "9320c83f-aebd-40cc-afe5-5a58bf206bf3",
   "metadata": {},
   "outputs": [
    {
     "data": {
      "text/html": [
       "<div>\n",
       "<style scoped>\n",
       "    .dataframe tbody tr th:only-of-type {\n",
       "        vertical-align: middle;\n",
       "    }\n",
       "\n",
       "    .dataframe tbody tr th {\n",
       "        vertical-align: top;\n",
       "    }\n",
       "\n",
       "    .dataframe thead th {\n",
       "        text-align: right;\n",
       "    }\n",
       "</style>\n",
       "<table border=\"1\" class=\"dataframe\">\n",
       "  <thead>\n",
       "    <tr style=\"text-align: right;\">\n",
       "      <th></th>\n",
       "      <th>sex</th>\n",
       "      <th>race</th>\n",
       "      <th>age_cat</th>\n",
       "      <th>priors_count</th>\n",
       "      <th>c_charge_degree</th>\n",
       "      <th>two_year_recid</th>\n",
       "      <th>model_not_recid</th>\n",
       "      <th>observed_not_recid</th>\n",
       "    </tr>\n",
       "  </thead>\n",
       "  <tbody>\n",
       "    <tr>\n",
       "      <th>3284</th>\n",
       "      <td>0.0</td>\n",
       "      <td>1.0</td>\n",
       "      <td>0.0</td>\n",
       "      <td>0.0</td>\n",
       "      <td>1.0</td>\n",
       "      <td>1.0</td>\n",
       "      <td>0.435677</td>\n",
       "      <td>0.0</td>\n",
       "    </tr>\n",
       "    <tr>\n",
       "      <th>4477</th>\n",
       "      <td>0.0</td>\n",
       "      <td>1.0</td>\n",
       "      <td>0.0</td>\n",
       "      <td>2.0</td>\n",
       "      <td>0.0</td>\n",
       "      <td>1.0</td>\n",
       "      <td>0.714689</td>\n",
       "      <td>0.0</td>\n",
       "    </tr>\n",
       "    <tr>\n",
       "      <th>4153</th>\n",
       "      <td>0.0</td>\n",
       "      <td>1.0</td>\n",
       "      <td>0.0</td>\n",
       "      <td>1.0</td>\n",
       "      <td>1.0</td>\n",
       "      <td>1.0</td>\n",
       "      <td>0.583895</td>\n",
       "      <td>0.0</td>\n",
       "    </tr>\n",
       "    <tr>\n",
       "      <th>4835</th>\n",
       "      <td>0.0</td>\n",
       "      <td>1.0</td>\n",
       "      <td>0.0</td>\n",
       "      <td>0.0</td>\n",
       "      <td>1.0</td>\n",
       "      <td>0.0</td>\n",
       "      <td>0.435677</td>\n",
       "      <td>1.0</td>\n",
       "    </tr>\n",
       "    <tr>\n",
       "      <th>4385</th>\n",
       "      <td>0.0</td>\n",
       "      <td>1.0</td>\n",
       "      <td>0.0</td>\n",
       "      <td>1.0</td>\n",
       "      <td>1.0</td>\n",
       "      <td>1.0</td>\n",
       "      <td>0.583895</td>\n",
       "      <td>0.0</td>\n",
       "    </tr>\n",
       "    <tr>\n",
       "      <th>...</th>\n",
       "      <td>...</td>\n",
       "      <td>...</td>\n",
       "      <td>...</td>\n",
       "      <td>...</td>\n",
       "      <td>...</td>\n",
       "      <td>...</td>\n",
       "      <td>...</td>\n",
       "      <td>...</td>\n",
       "    </tr>\n",
       "    <tr>\n",
       "      <th>4797</th>\n",
       "      <td>0.0</td>\n",
       "      <td>1.0</td>\n",
       "      <td>0.0</td>\n",
       "      <td>0.0</td>\n",
       "      <td>0.0</td>\n",
       "      <td>0.0</td>\n",
       "      <td>0.431250</td>\n",
       "      <td>1.0</td>\n",
       "    </tr>\n",
       "    <tr>\n",
       "      <th>2965</th>\n",
       "      <td>1.0</td>\n",
       "      <td>1.0</td>\n",
       "      <td>0.0</td>\n",
       "      <td>1.0</td>\n",
       "      <td>0.0</td>\n",
       "      <td>0.0</td>\n",
       "      <td>0.416547</td>\n",
       "      <td>1.0</td>\n",
       "    </tr>\n",
       "    <tr>\n",
       "      <th>1696</th>\n",
       "      <td>0.0</td>\n",
       "      <td>1.0</td>\n",
       "      <td>0.0</td>\n",
       "      <td>1.0</td>\n",
       "      <td>0.0</td>\n",
       "      <td>1.0</td>\n",
       "      <td>0.579509</td>\n",
       "      <td>0.0</td>\n",
       "    </tr>\n",
       "    <tr>\n",
       "      <th>620</th>\n",
       "      <td>1.0</td>\n",
       "      <td>1.0</td>\n",
       "      <td>0.0</td>\n",
       "      <td>1.0</td>\n",
       "      <td>1.0</td>\n",
       "      <td>0.0</td>\n",
       "      <td>0.420934</td>\n",
       "      <td>1.0</td>\n",
       "    </tr>\n",
       "    <tr>\n",
       "      <th>2646</th>\n",
       "      <td>0.0</td>\n",
       "      <td>1.0</td>\n",
       "      <td>0.0</td>\n",
       "      <td>0.0</td>\n",
       "      <td>1.0</td>\n",
       "      <td>0.0</td>\n",
       "      <td>0.435677</td>\n",
       "      <td>1.0</td>\n",
       "    </tr>\n",
       "  </tbody>\n",
       "</table>\n",
       "<p>105 rows × 8 columns</p>\n",
       "</div>"
      ],
      "text/plain": [
       "      sex  race  age_cat  priors_count  c_charge_degree  two_year_recid  \\\n",
       "3284  0.0   1.0      0.0           0.0              1.0             1.0   \n",
       "4477  0.0   1.0      0.0           2.0              0.0             1.0   \n",
       "4153  0.0   1.0      0.0           1.0              1.0             1.0   \n",
       "4835  0.0   1.0      0.0           0.0              1.0             0.0   \n",
       "4385  0.0   1.0      0.0           1.0              1.0             1.0   \n",
       "...   ...   ...      ...           ...              ...             ...   \n",
       "4797  0.0   1.0      0.0           0.0              0.0             0.0   \n",
       "2965  1.0   1.0      0.0           1.0              0.0             0.0   \n",
       "1696  0.0   1.0      0.0           1.0              0.0             1.0   \n",
       "620   1.0   1.0      0.0           1.0              1.0             0.0   \n",
       "2646  0.0   1.0      0.0           0.0              1.0             0.0   \n",
       "\n",
       "      model_not_recid  observed_not_recid  \n",
       "3284         0.435677                 0.0  \n",
       "4477         0.714689                 0.0  \n",
       "4153         0.583895                 0.0  \n",
       "4835         0.435677                 1.0  \n",
       "4385         0.583895                 0.0  \n",
       "...               ...                 ...  \n",
       "4797         0.431250                 1.0  \n",
       "2965         0.416547                 1.0  \n",
       "1696         0.579509                 0.0  \n",
       "620          0.420934                 1.0  \n",
       "2646         0.435677                 1.0  \n",
       "\n",
       "[105 rows x 8 columns]"
      ]
     },
     "execution_count": 192,
     "metadata": {},
     "output_type": "execute_result"
    }
   ],
   "source": [
    "# Copie \n",
    "dataset_bias_test_caucasian = dataset_orig_test_caucasian.copy()\n",
    "dataset_bias_test_caucasian.scores = clf_caucasian.predict_proba(dataset_orig_test_caucasian.features)[:, 1]\n",
    "dataset_bias_test_caucasian.labels = dataset_orig_test_caucasian.labels\n",
    "\n",
    "test_df_caucasian = dataset_bias_test_caucasian.convert_to_dataframe()[0]\n",
    "test_df_caucasian['model_not_recid'] = dataset_bias_test_caucasian.scores.flatten()\n",
    "test_df_caucasian['observed_not_recid'] = 1 - test_df_caucasian['two_year_recid']  \n",
    "test_df_caucasian\n"
   ]
  },
  {
   "cell_type": "code",
   "execution_count": 193,
   "id": "b555bd26-d3a3-4e0d-8986-ae4c94a3b440",
   "metadata": {},
   "outputs": [
    {
     "data": {
      "text/plain": [
       "model_not_recid       0.351998\n",
       "observed_not_recid    0.730769\n",
       "dtype: float64"
      ]
     },
     "execution_count": 193,
     "metadata": {},
     "output_type": "execute_result"
    }
   ],
   "source": [
    "# average for group female caucasian\n",
    "test_df_caucasian[test_df_caucasian['sex'] == 1][['model_not_recid','observed_not_recid']].mean()  "
   ]
  },
  {
   "cell_type": "markdown",
   "id": "b5beb8de-e1d9-4ab5-9673-37afe5ac925f",
   "metadata": {},
   "source": [
    "Mean Model Prediction (Model Not Recid): 0.351998. This suggests that the model predicts that only about 35.2% of individuals in this Caucasian group under the age of 25 will not recidivate (since the favourable label is 1, therefore not recid).\r\n",
    "Mean Actual Observations (Observed Not Recid): 0.730769. This indicates that, in reality, approximately 73.1% of individuals in this group did not reoffend."
   ]
  },
  {
   "cell_type": "markdown",
   "id": "fa8df605-9274-45e1-8642-7f7135437bb7",
   "metadata": {},
   "source": [
    "## MDSS Classification Metric group_caucasian \n",
    "Now, we'll create an instance of the MDSS Classification Metric and assess the apriori defined privileged and unprivileged groups; female_group_caucasian and male_group_caucasian respectively."
   ]
  },
  {
   "cell_type": "code",
   "execution_count": 194,
   "id": "f06aede1-2ee5-4408-9560-22c40f73ec28",
   "metadata": {},
   "outputs": [
    {
     "data": {
      "text/plain": [
       "-0.0"
      ]
     },
     "execution_count": 194,
     "metadata": {},
     "output_type": "execute_result"
    }
   ],
   "source": [
    "mdss_classified_caucasian = MDSSClassificationMetric(dataset_orig_test_caucasian, dataset_bias_test_caucasian,\n",
    "                                                     unprivileged_groups=female_group_caucasian,\n",
    "                                                     privileged_groups=male_group_caucasian )\n",
    "\n",
    "# score\n",
    "homme_privileged_score_caucasian = mdss_classified_caucasian.score_groups(privileged=True)\n",
    "homme_privileged_score_caucasian"
   ]
  },
  {
   "cell_type": "code",
   "execution_count": 195,
   "id": "12fb628b-c77c-46ed-bcb6-800530e36bb4",
   "metadata": {},
   "outputs": [
    {
     "data": {
      "text/plain": [
       "-0.0"
      ]
     },
     "execution_count": 195,
     "metadata": {},
     "output_type": "execute_result"
    }
   ],
   "source": [
    "female_privileged_score_caucasian = mdss_classified_caucasian.score_groups(privileged=False)\n",
    "female_privileged_score_caucasian"
   ]
  },
  {
   "cell_type": "markdown",
   "id": "9346f3ce-3589-4858-81e7-e9dc1edf709e",
   "metadata": {},
   "source": [
    "**Preferred Men (Score of 0):** The absence of a detectable bias in favor of Caucasian men suggests that the model treats men and women relatively equivalently, at least according to the criteria analyzed by the MDSS.\r\n",
    "\r\n",
    "**Non-Privileged Females (Score of 0):** Similarly, the absence of detectable bias against Caucasian women indicates that the model does not show inequitable treatment towards them compared to men.\r\n",
    "\n",
    "\n",
    "the MDSS scores for both groups (men as privileged and women as unprivileged) are 0 in the Caucasian context, \n",
    "this suggests that, according to this specific metric, there is no significant bias detected by the model towards or against either sex in the Caucasian group."
   ]
  },
  {
   "cell_type": "markdown",
   "id": "e73a4609-d7ef-4318-bbdb-2470615eb1ca",
   "metadata": {},
   "source": [
    "# Probability prediction on the test africain-américain"
   ]
  },
  {
   "cell_type": "code",
   "execution_count": 196,
   "id": "82512a50-ac05-43fa-82e0-3b9ef0c5c83c",
   "metadata": {},
   "outputs": [
    {
     "data": {
      "text/html": [
       "<div>\n",
       "<style scoped>\n",
       "    .dataframe tbody tr th:only-of-type {\n",
       "        vertical-align: middle;\n",
       "    }\n",
       "\n",
       "    .dataframe tbody tr th {\n",
       "        vertical-align: top;\n",
       "    }\n",
       "\n",
       "    .dataframe thead th {\n",
       "        text-align: right;\n",
       "    }\n",
       "</style>\n",
       "<table border=\"1\" class=\"dataframe\">\n",
       "  <thead>\n",
       "    <tr style=\"text-align: right;\">\n",
       "      <th></th>\n",
       "      <th>sex</th>\n",
       "      <th>race</th>\n",
       "      <th>age_cat</th>\n",
       "      <th>priors_count</th>\n",
       "      <th>c_charge_degree</th>\n",
       "      <th>observed</th>\n",
       "      <th>probabilities</th>\n",
       "    </tr>\n",
       "  </thead>\n",
       "  <tbody>\n",
       "    <tr>\n",
       "      <th>0</th>\n",
       "      <td>0.0</td>\n",
       "      <td>0.0</td>\n",
       "      <td>0.0</td>\n",
       "      <td>1.0</td>\n",
       "      <td>0.0</td>\n",
       "      <td>0.0</td>\n",
       "      <td>0.316611</td>\n",
       "    </tr>\n",
       "    <tr>\n",
       "      <th>1</th>\n",
       "      <td>0.0</td>\n",
       "      <td>0.0</td>\n",
       "      <td>0.0</td>\n",
       "      <td>1.0</td>\n",
       "      <td>1.0</td>\n",
       "      <td>0.0</td>\n",
       "      <td>0.292806</td>\n",
       "    </tr>\n",
       "    <tr>\n",
       "      <th>2</th>\n",
       "      <td>0.0</td>\n",
       "      <td>0.0</td>\n",
       "      <td>0.0</td>\n",
       "      <td>0.0</td>\n",
       "      <td>1.0</td>\n",
       "      <td>0.0</td>\n",
       "      <td>0.509501</td>\n",
       "    </tr>\n",
       "    <tr>\n",
       "      <th>3</th>\n",
       "      <td>0.0</td>\n",
       "      <td>0.0</td>\n",
       "      <td>0.0</td>\n",
       "      <td>0.0</td>\n",
       "      <td>1.0</td>\n",
       "      <td>1.0</td>\n",
       "      <td>0.509501</td>\n",
       "    </tr>\n",
       "    <tr>\n",
       "      <th>4</th>\n",
       "      <td>1.0</td>\n",
       "      <td>0.0</td>\n",
       "      <td>0.0</td>\n",
       "      <td>1.0</td>\n",
       "      <td>0.0</td>\n",
       "      <td>1.0</td>\n",
       "      <td>0.487783</td>\n",
       "    </tr>\n",
       "  </tbody>\n",
       "</table>\n",
       "</div>"
      ],
      "text/plain": [
       "   sex  race  age_cat  priors_count  c_charge_degree  observed  probabilities\n",
       "0  0.0   0.0      0.0           1.0              0.0       0.0       0.316611\n",
       "1  0.0   0.0      0.0           1.0              1.0       0.0       0.292806\n",
       "2  0.0   0.0      0.0           0.0              1.0       0.0       0.509501\n",
       "3  0.0   0.0      0.0           0.0              1.0       1.0       0.509501\n",
       "4  1.0   0.0      0.0           1.0              0.0       1.0       0.487783"
      ]
     },
     "execution_count": 196,
     "metadata": {},
     "output_type": "execute_result"
    }
   ],
   "source": [
    "\n",
    "dataset_bias_test_prob_african_american = clf_african_american.predict_proba(dataset_orig_test_african_american.features)[:, 0]\n",
    "\n",
    "df_african_american = pd.DataFrame(dataset_orig_test_african_american.features, columns=dataset_orig_test_african_american.feature_names)\n",
    "df_african_american['observed'] = pd.Series(dataset_orig_test_african_american.labels.flatten(), index=df_african_american.index)\n",
    "df_african_american['probabilities'] = pd.Series(dataset_bias_test_prob_african_american, index=df_african_american.index)\n",
    "df_african_american.head()"
   ]
  },
  {
   "cell_type": "code",
   "execution_count": 197,
   "id": "9b4d354c-02b0-459f-b2b2-a0130f7b8cff",
   "metadata": {},
   "outputs": [
    {
     "data": {
      "text/html": [
       "<div>\n",
       "<style scoped>\n",
       "    .dataframe tbody tr th:only-of-type {\n",
       "        vertical-align: middle;\n",
       "    }\n",
       "\n",
       "    .dataframe tbody tr th {\n",
       "        vertical-align: top;\n",
       "    }\n",
       "\n",
       "    .dataframe thead th {\n",
       "        text-align: right;\n",
       "    }\n",
       "</style>\n",
       "<table border=\"1\" class=\"dataframe\">\n",
       "  <thead>\n",
       "    <tr style=\"text-align: right;\">\n",
       "      <th></th>\n",
       "      <th>sex</th>\n",
       "      <th>race</th>\n",
       "      <th>age_cat</th>\n",
       "      <th>priors_count</th>\n",
       "      <th>c_charge_degree</th>\n",
       "      <th>two_year_recid</th>\n",
       "      <th>model_not_recid</th>\n",
       "      <th>observed_not_recid</th>\n",
       "    </tr>\n",
       "  </thead>\n",
       "  <tbody>\n",
       "    <tr>\n",
       "      <th>3416</th>\n",
       "      <td>0.0</td>\n",
       "      <td>0.0</td>\n",
       "      <td>0.0</td>\n",
       "      <td>1.0</td>\n",
       "      <td>0.0</td>\n",
       "      <td>0.0</td>\n",
       "      <td>0.683389</td>\n",
       "      <td>1.0</td>\n",
       "    </tr>\n",
       "    <tr>\n",
       "      <th>4318</th>\n",
       "      <td>0.0</td>\n",
       "      <td>0.0</td>\n",
       "      <td>0.0</td>\n",
       "      <td>1.0</td>\n",
       "      <td>1.0</td>\n",
       "      <td>0.0</td>\n",
       "      <td>0.707194</td>\n",
       "      <td>1.0</td>\n",
       "    </tr>\n",
       "    <tr>\n",
       "      <th>5126</th>\n",
       "      <td>0.0</td>\n",
       "      <td>0.0</td>\n",
       "      <td>0.0</td>\n",
       "      <td>0.0</td>\n",
       "      <td>1.0</td>\n",
       "      <td>0.0</td>\n",
       "      <td>0.490499</td>\n",
       "      <td>1.0</td>\n",
       "    </tr>\n",
       "    <tr>\n",
       "      <th>1138</th>\n",
       "      <td>0.0</td>\n",
       "      <td>0.0</td>\n",
       "      <td>0.0</td>\n",
       "      <td>0.0</td>\n",
       "      <td>1.0</td>\n",
       "      <td>1.0</td>\n",
       "      <td>0.490499</td>\n",
       "      <td>0.0</td>\n",
       "    </tr>\n",
       "    <tr>\n",
       "      <th>1090</th>\n",
       "      <td>1.0</td>\n",
       "      <td>0.0</td>\n",
       "      <td>0.0</td>\n",
       "      <td>1.0</td>\n",
       "      <td>0.0</td>\n",
       "      <td>1.0</td>\n",
       "      <td>0.512217</td>\n",
       "      <td>0.0</td>\n",
       "    </tr>\n",
       "    <tr>\n",
       "      <th>...</th>\n",
       "      <td>...</td>\n",
       "      <td>...</td>\n",
       "      <td>...</td>\n",
       "      <td>...</td>\n",
       "      <td>...</td>\n",
       "      <td>...</td>\n",
       "      <td>...</td>\n",
       "      <td>...</td>\n",
       "    </tr>\n",
       "    <tr>\n",
       "      <th>4992</th>\n",
       "      <td>0.0</td>\n",
       "      <td>0.0</td>\n",
       "      <td>0.0</td>\n",
       "      <td>1.0</td>\n",
       "      <td>0.0</td>\n",
       "      <td>0.0</td>\n",
       "      <td>0.683389</td>\n",
       "      <td>1.0</td>\n",
       "    </tr>\n",
       "    <tr>\n",
       "      <th>1273</th>\n",
       "      <td>0.0</td>\n",
       "      <td>0.0</td>\n",
       "      <td>0.0</td>\n",
       "      <td>0.0</td>\n",
       "      <td>1.0</td>\n",
       "      <td>0.0</td>\n",
       "      <td>0.490499</td>\n",
       "      <td>1.0</td>\n",
       "    </tr>\n",
       "    <tr>\n",
       "      <th>4142</th>\n",
       "      <td>0.0</td>\n",
       "      <td>0.0</td>\n",
       "      <td>0.0</td>\n",
       "      <td>2.0</td>\n",
       "      <td>1.0</td>\n",
       "      <td>1.0</td>\n",
       "      <td>0.858343</td>\n",
       "      <td>0.0</td>\n",
       "    </tr>\n",
       "    <tr>\n",
       "      <th>3714</th>\n",
       "      <td>1.0</td>\n",
       "      <td>0.0</td>\n",
       "      <td>0.0</td>\n",
       "      <td>1.0</td>\n",
       "      <td>1.0</td>\n",
       "      <td>1.0</td>\n",
       "      <td>0.540232</td>\n",
       "      <td>0.0</td>\n",
       "    </tr>\n",
       "    <tr>\n",
       "      <th>4540</th>\n",
       "      <td>0.0</td>\n",
       "      <td>0.0</td>\n",
       "      <td>0.0</td>\n",
       "      <td>0.0</td>\n",
       "      <td>0.0</td>\n",
       "      <td>1.0</td>\n",
       "      <td>0.462468</td>\n",
       "      <td>0.0</td>\n",
       "    </tr>\n",
       "  </tbody>\n",
       "</table>\n",
       "<p>243 rows × 8 columns</p>\n",
       "</div>"
      ],
      "text/plain": [
       "      sex  race  age_cat  priors_count  c_charge_degree  two_year_recid  \\\n",
       "3416  0.0   0.0      0.0           1.0              0.0             0.0   \n",
       "4318  0.0   0.0      0.0           1.0              1.0             0.0   \n",
       "5126  0.0   0.0      0.0           0.0              1.0             0.0   \n",
       "1138  0.0   0.0      0.0           0.0              1.0             1.0   \n",
       "1090  1.0   0.0      0.0           1.0              0.0             1.0   \n",
       "...   ...   ...      ...           ...              ...             ...   \n",
       "4992  0.0   0.0      0.0           1.0              0.0             0.0   \n",
       "1273  0.0   0.0      0.0           0.0              1.0             0.0   \n",
       "4142  0.0   0.0      0.0           2.0              1.0             1.0   \n",
       "3714  1.0   0.0      0.0           1.0              1.0             1.0   \n",
       "4540  0.0   0.0      0.0           0.0              0.0             1.0   \n",
       "\n",
       "      model_not_recid  observed_not_recid  \n",
       "3416         0.683389                 1.0  \n",
       "4318         0.707194                 1.0  \n",
       "5126         0.490499                 1.0  \n",
       "1138         0.490499                 0.0  \n",
       "1090         0.512217                 0.0  \n",
       "...               ...                 ...  \n",
       "4992         0.683389                 1.0  \n",
       "1273         0.490499                 1.0  \n",
       "4142         0.858343                 0.0  \n",
       "3714         0.540232                 0.0  \n",
       "4540         0.462468                 0.0  \n",
       "\n",
       "[243 rows x 8 columns]"
      ]
     },
     "execution_count": 197,
     "metadata": {},
     "output_type": "execute_result"
    }
   ],
   "source": [
    "\n",
    "dataset_bias_test_african_american = dataset_orig_test_african_american.copy()\n",
    "\n",
    "dataset_bias_test_african_american.scores = clf_african_american.predict_proba(dataset_orig_test_african_american.features)[:, 1]\n",
    "dataset_bias_test_african_american.labels = dataset_orig_test_african_american.labels\n",
    "\n",
    "test_df_african_american = dataset_bias_test_african_american.convert_to_dataframe()[0]\n",
    "\n",
    "# add new column for observation\n",
    "test_df_african_american['model_not_recid'] = dataset_bias_test_african_american.scores.flatten()\n",
    "test_df_african_american['observed_not_recid'] = 1 - test_df_african_american['two_year_recid']  \n",
    "\n",
    "test_df_african_american"
   ]
  },
  {
   "cell_type": "code",
   "execution_count": 198,
   "id": "95a589ec-4946-4784-a6cd-7e424358d2f1",
   "metadata": {},
   "outputs": [
    {
     "data": {
      "text/plain": [
       "model_not_recid       0.42175\n",
       "observed_not_recid    0.47500\n",
       "dtype: float64"
      ]
     },
     "execution_count": 198,
     "metadata": {},
     "output_type": "execute_result"
    }
   ],
   "source": [
    "# score\n",
    "test_df_african_american[test_df_african_american['sex'] == 1][['model_not_recid','observed_not_recid']].mean()  \n"
   ]
  },
  {
   "cell_type": "markdown",
   "id": "22a2512b-f162-410d-89e7-5813063b68e7",
   "metadata": {},
   "source": [
    "Mean Model Prediction (Model Not Recid): 0.42175. This means that the model predicts that 42.175% of individuals in this group will not recidivate (favourable label 1).\r\n",
    "\r\n",
    "Observed Not Recid: 0.47500. This indicates that, in reality, 47.5% of the individuals in this group did not reoffen\n",
    "\n",
    "The difference between the model's predictions and actual observations is less pronounced than in the Caucasian group. Here, the model slightly underestimates the probability of African-American individuals not reoffending, but the difference is relatively small (around 4.725%).d."
   ]
  },
  {
   "cell_type": "markdown",
   "id": "24fe91c4-9e4a-4a08-b786-8ce540025849",
   "metadata": {},
   "source": [
    "## MDSS Classification Metric group_african_american\n"
   ]
  },
  {
   "cell_type": "code",
   "execution_count": 199,
   "id": "7f4272b2-169b-445c-8941-ac41387c1b95",
   "metadata": {},
   "outputs": [
    {
     "data": {
      "text/plain": [
       "-0.0"
      ]
     },
     "execution_count": 199,
     "metadata": {},
     "output_type": "execute_result"
    }
   ],
   "source": [
    "mdss_classified_african_american = MDSSClassificationMetric(dataset_orig_test_african_american, dataset_bias_test_african_american,\n",
    "                                                             unprivileged_groups=female_group_african_american,\n",
    "                                                             privileged_groups= male_group_african_american )\n",
    "\n",
    "# \n",
    "homme_privileged_score_african_american = mdss_classified_african_american.score_groups(privileged=True)\n",
    "homme_privileged_score_african_american"
   ]
  },
  {
   "cell_type": "markdown",
   "id": "be297f8e-fda2-4ae2-86ec-f0342b0a3bb8",
   "metadata": {},
   "source": [
    "A score: -0.0 suggests that there is no detectable difference in the treatment of men."
   ]
  },
  {
   "cell_type": "code",
   "execution_count": 200,
   "id": "60842379-f4c2-4877-a21a-c3062de5bd47",
   "metadata": {},
   "outputs": [
    {
     "data": {
      "text/plain": [
       "0.9194"
      ]
     },
     "execution_count": 200,
     "metadata": {},
     "output_type": "execute_result"
    }
   ],
   "source": [
    "femele_unprivileged_score = mdss_classified_african_american.score_groups(privileged=False)\n",
    "femele_unprivileged_score"
   ]
  },
  {
   "cell_type": "markdown",
   "id": "ee45698f-7ace-4d95-b847-316f5bb52074",
   "metadata": {},
   "source": [
    "The score of 0.9194 for African-American women as a non-privileged group, obtained using the MDSS metric, indicates a very different situation from that observed for African-American men.\n",
    "\n",
    "Interpretation of the Score for African-American Women (Non-Privileged) :\n",
    "\n",
    "A score of 0.9194 is relatively high and suggests that, according to the MDSS, there is a significant bias against African-American women in the dataset.\n",
    "This score indicates that the model may be underestimating the favourable label for African-American women relative to their actual distribution in the data.\n",
    "In terms of bias, this could mean that the model is less fair to African-American women compared to African-American men.\n",
    "\n",
    "The juxtaposition of this high score for women with the score of -0.0 for men suggests that there is a notable disparity in the way the model treats African-American men and women."
   ]
  },
  {
   "cell_type": "markdown",
   "id": "38fa697c-7807-4d95-bad3-f2ec872b1f7f",
   "metadata": {},
   "source": [
    "## conclusion\n",
    "Based on analyses carried out using the MDSS (Multi-Dimensional Subset Scan) metric on the two specific groups - Caucasians and African-Americans - under the age of 25, here is a conclusion:\r\n",
    "\r\n",
    "1. **Caucasian group:**\r\n",
    "\r\n",
    "   - MDSS scores are 0 for both males and females, indicating that there is no significant bias detected by the model towards or against either sex in this group.\r\n",
    "   - This lack of bias suggests that the model treats Caucasian men and women under the age of 25 relatively equally with respect to the criteria analyzed by the MDSS.\r\n",
    "\r\n",
    "2. **African-American group:**\r\n",
    "\r\n",
    "   - For African-American men, the MDSS score is also 0, indicating no significant bias in their favor.\r\n",
    "   - On the other hand, for African-American women, the MDSS score is relatively high (0.9194), suggesting a significant bias against them. This bias indicates that the model may under-estimate the probability of a favorable label (non-recurrence) for African-American women compared with men.\r\n"
   ]
  },
  {
   "cell_type": "code",
   "execution_count": null,
   "id": "3094ae3e-c6f9-471d-8e40-a39979297cbe",
   "metadata": {},
   "outputs": [],
   "source": []
  },
  {
   "cell_type": "code",
   "execution_count": null,
   "id": "db044976-3f03-4124-b30e-716009e4e27b",
   "metadata": {},
   "outputs": [],
   "source": []
  },
  {
   "cell_type": "code",
   "execution_count": null,
   "id": "137f9032-6f67-4f0c-a4b9-3b255dadb928",
   "metadata": {},
   "outputs": [],
   "source": []
  },
  {
   "cell_type": "code",
   "execution_count": null,
   "id": "1bbc4fa0-16a4-4f0f-bf1f-43b1f3a8a65e",
   "metadata": {},
   "outputs": [],
   "source": []
  }
 ],
 "metadata": {
  "kernelspec": {
   "display_name": "Python 3 (ipykernel)",
   "language": "python",
   "name": "python3"
  },
  "language_info": {
   "codemirror_mode": {
    "name": "ipython",
    "version": 3
   },
   "file_extension": ".py",
   "mimetype": "text/x-python",
   "name": "python",
   "nbconvert_exporter": "python",
   "pygments_lexer": "ipython3",
   "version": "3.9.18"
  }
 },
 "nbformat": 4,
 "nbformat_minor": 5
}
